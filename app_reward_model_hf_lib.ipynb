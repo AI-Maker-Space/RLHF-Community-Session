{
 "cells": [
  {
   "cell_type": "markdown",
   "metadata": {},
   "source": [
    "## Reward Model using Huggingface RewardTraining lib"
   ]
  },
  {
   "cell_type": "markdown",
   "metadata": {},
   "source": [
    "Reward Model based on BERT-BASE-UNCASED\n",
    "\n",
    "Dataset: CarperAI/openai_summarize_comparisons "
   ]
  },
  {
   "cell_type": "code",
   "execution_count": 45,
   "metadata": {},
   "outputs": [],
   "source": [
    "import torch \n",
    "import random \n",
    "import numpy as np \n",
    "\n",
    "from transformers import AutoModelForSequenceClassification, AutoTokenizer, TrainingArguments\n",
    "from trl import RewardTrainer #, RewardConfig\n",
    "from peft import PeftModel, PeftConfig, LoraConfig, TaskType\n",
    "\n",
    "from datasets import load_dataset\n"
   ]
  },
  {
   "cell_type": "code",
   "execution_count": 46,
   "metadata": {},
   "outputs": [],
   "source": [
    "device = torch.device(\"cuda\" if torch.cuda.is_available() else \"cpu\")\n",
    "torch.cuda.empty_cache()"
   ]
  },
  {
   "cell_type": "markdown",
   "metadata": {},
   "source": [
    "### The model: bert-base-uncased"
   ]
  },
  {
   "cell_type": "code",
   "execution_count": 47,
   "metadata": {},
   "outputs": [
    {
     "name": "stderr",
     "output_type": "stream",
     "text": [
      "Some weights of BertForSequenceClassification were not initialized from the model checkpoint at bert-base-uncased and are newly initialized: ['classifier.weight', 'classifier.bias']\n",
      "You should probably TRAIN this model on a down-stream task to be able to use it for predictions and inference.\n"
     ]
    }
   ],
   "source": [
    "# Load the model\n",
    "model = AutoModelForSequenceClassification.from_pretrained('bert-base-uncased') \n",
    "\n",
    "# Load a tokenizer (change the model name as per your requirements)\n",
    "tokenizer = AutoTokenizer.from_pretrained('bert-base-uncased')"
   ]
  },
  {
   "cell_type": "markdown",
   "metadata": {},
   "source": [
    "### Load dataset from HF"
   ]
  },
  {
   "cell_type": "code",
   "execution_count": 48,
   "metadata": {},
   "outputs": [
    {
     "name": "stderr",
     "output_type": "stream",
     "text": [
      "Found cached dataset parquet (C:/Users/juan_/.cache/huggingface/datasets/CarperAI___parquet/CarperAI--openai_summarize_comparisons-79d2c222a15dc8fb/0.0.0/2a3b91fbd88a2c90d1dbbb32b460cf621d31bd5b05b934492fdef7d8d6f236ec)\n"
     ]
    },
    {
     "data": {
      "application/vnd.jupyter.widget-view+json": {
       "model_id": "37249c68cc1b471c970ef5b6331cdb55",
       "version_major": 2,
       "version_minor": 0
      },
      "text/plain": [
       "  0%|          | 0/4 [00:00<?, ?it/s]"
      ]
     },
     "metadata": {},
     "output_type": "display_data"
    },
    {
     "data": {
      "application/vnd.jupyter.widget-view+json": {
       "model_id": "b316b2c2f8254d5db18532db6550b6e5",
       "version_major": 2,
       "version_minor": 0
      },
      "text/plain": [
       "Map:   0%|          | 0/92534 [00:00<?, ? examples/s]"
      ]
     },
     "metadata": {},
     "output_type": "display_data"
    },
    {
     "name": "stdout",
     "output_type": "stream",
     "text": [
      "Max token count: 172\n"
     ]
    },
    {
     "data": {
      "text/plain": [
       "40000"
      ]
     },
     "execution_count": 48,
     "metadata": {},
     "output_type": "execute_result"
    }
   ],
   "source": [
    "# Load the SQuAD dataset\n",
    "dataset = load_dataset(\"CarperAI/openai_summarize_comparisons\")\n",
    "\n",
    "\n",
    "\n",
    "# Tokenize the dataset and get the lengths\n",
    "tokenized_lengths = dataset[\"train\"].map(lambda examples: {'lengths': len(tokenizer(examples['chosen'], add_special_tokens=True)[\"input_ids\"])}, remove_columns=dataset[\"train\"].column_names)\n",
    "# Fetch max length\n",
    "max_length = max(tokenized_lengths[\"lengths\"])\n",
    "print(\"Max token count:\", max_length)\n",
    "\n",
    "\n",
    "\n",
    "# Shuffle the indices\n",
    "total_samples = len(dataset[\"valid2\"])\n",
    "all_indices = list(range(total_samples))\n",
    "random.shuffle(all_indices)\n",
    "\n",
    "\n",
    "# Select 'n'' random indices\n",
    "n_samples = 40000 # With 12500 samples, train at 80% will be 10k\n",
    "selected_indices = all_indices[:n_samples]\n",
    "\n",
    "# Get the 'n'' random samples\n",
    "dataset = dataset[\"valid2\"].select(selected_indices)\n",
    "\n",
    "len(dataset)\n"
   ]
  },
  {
   "cell_type": "code",
   "execution_count": 49,
   "metadata": {},
   "outputs": [],
   "source": [
    "# Split the dataset into train, val, and test\n",
    "train_percent = 0.8\n",
    "val_percent = 0.1\n",
    "# test_percent is implicitly 0.1 since train + val + test = 1.0\n",
    "\n",
    "train_size = int(train_percent * n_samples)\n",
    "val_size = int(val_percent * n_samples)\n",
    "# Remaining samples are for testing\n",
    "\n",
    "train_dataset = dataset.select(list(range(train_size)))\n",
    "val_dataset = dataset.select(list(range(train_size, train_size + val_size)))\n",
    "test_dataset = dataset.select(list(range(train_size + val_size, n_samples)))"
   ]
  },
  {
   "cell_type": "markdown",
   "metadata": {},
   "source": [
    "The HF RewardTraining util expects a very specific dataset format with 2 features: chosen and rejected. The dataset we are using includes 'prompt' features. Lets drop it:"
   ]
  },
  {
   "cell_type": "code",
   "execution_count": 50,
   "metadata": {},
   "outputs": [],
   "source": [
    "# Remove 'prompt' column from each dataset\n",
    "train_dataset = train_dataset.remove_columns(['prompt'])\n",
    "val_dataset = val_dataset.remove_columns(['prompt'])\n",
    "#test_dataset = test_dataset.remove_columns(['prompt'])"
   ]
  },
  {
   "cell_type": "markdown",
   "metadata": {},
   "source": [
    "Each final dataset object should contain two 4 entries:\n",
    "\n",
    "* input_ids_chosen\n",
    "* attention_mask_chosen\n",
    "* input_ids_rejected\n",
    "* attention_mask_rejected"
   ]
  },
  {
   "cell_type": "code",
   "execution_count": 51,
   "metadata": {},
   "outputs": [
    {
     "data": {
      "application/vnd.jupyter.widget-view+json": {
       "model_id": "ce236081941d4eaf89345dd558f1992a",
       "version_major": 2,
       "version_minor": 0
      },
      "text/plain": [
       "Map:   0%|          | 0/32000 [00:00<?, ? examples/s]"
      ]
     },
     "metadata": {},
     "output_type": "display_data"
    },
    {
     "data": {
      "application/vnd.jupyter.widget-view+json": {
       "model_id": "8c66d225c9564053b614a6ec957b66b9",
       "version_major": 2,
       "version_minor": 0
      },
      "text/plain": [
       "Map:   0%|          | 0/4000 [00:00<?, ? examples/s]"
      ]
     },
     "metadata": {},
     "output_type": "display_data"
    }
   ],
   "source": [
    "def process_features(batch):\n",
    "    # Tokenize 'chosen' feature\n",
    "    chosen_tokens = tokenizer(batch['chosen'], padding='max_length', truncation=True, max_length=512, return_tensors='np')\n",
    "    batch['input_ids_chosen'] = chosen_tokens['input_ids']\n",
    "    batch['attention_mask_chosen'] = chosen_tokens['attention_mask']\n",
    "    \n",
    "    # Tokenize 'rejected' feature\n",
    "    rejected_tokens = tokenizer(batch['rejected'], padding='max_length', truncation=True, max_length=512, return_tensors='np')\n",
    "    batch['input_ids_rejected'] = rejected_tokens['input_ids']\n",
    "    batch['attention_mask_rejected'] = rejected_tokens['attention_mask']\n",
    "    \n",
    "    return batch\n",
    "\n",
    "# Apply the function to your datasets\n",
    "train_dataset = train_dataset.map(process_features, batched=True)\n",
    "val_dataset = val_dataset.map(process_features, batched=True)\n",
    "#test_dataset = test_dataset.map(process_features, batched=True)\n",
    "\n",
    "# Remove original 'chosen' and 'rejected' columns\n",
    "columns_to_remove = ['chosen', 'rejected']\n",
    "train_dataset = train_dataset.remove_columns(columns_to_remove)\n",
    "val_dataset = val_dataset.remove_columns(columns_to_remove)\n",
    "#test_dataset = test_dataset.remove_columns(columns_to_remove)\n"
   ]
  },
  {
   "cell_type": "markdown",
   "metadata": {},
   "source": [
    "### Prepare the training objects"
   ]
  },
  {
   "cell_type": "code",
   "execution_count": 52,
   "metadata": {},
   "outputs": [],
   "source": [
    "from datasets import load_metric\n",
    "\n",
    "metric = load_metric(\"accuracy\")\n",
    "\n",
    "def compute_metrics(eval_pred):\n",
    "    logits, labels = eval_pred\n",
    "    predictions = np.argmax(logits, axis=-1)\n",
    "    return metric.compute(predictions=predictions, references=labels)"
   ]
  },
  {
   "cell_type": "code",
   "execution_count": 55,
   "metadata": {},
   "outputs": [],
   "source": [
    "peft_config = LoraConfig(\n",
    "    task_type=TaskType.SEQ_CLS,\n",
    "    inference_mode=False,\n",
    "    r=8,\n",
    "    lora_alpha=32,\n",
    "    lora_dropout=0.2,\n",
    ")"
   ]
  },
  {
   "cell_type": "code",
   "execution_count": 56,
   "metadata": {},
   "outputs": [],
   "source": [
    "output_dir = './model_bert_hf_experiment2' \n",
    "\n",
    "training_args = TrainingArguments(\n",
    "    output_dir=output_dir,\n",
    "    do_train=True,\n",
    "    do_eval=True,\n",
    "    evaluation_strategy=\"epoch\",\n",
    "    save_strategy=\"epoch\",\n",
    "    num_train_epochs=8,\n",
    ")"
   ]
  },
  {
   "cell_type": "code",
   "execution_count": 57,
   "metadata": {},
   "outputs": [
    {
     "name": "stderr",
     "output_type": "stream",
     "text": [
      "c:\\Python311\\Lib\\site-packages\\trl\\trainer\\reward_trainer.py:138: UserWarning: When using RewardDataCollatorWithPadding, you should set `remove_unused_columns=False` in your TrainingArguments we have set it for you, but you should do it yourself in the future.\n",
      "  warnings.warn(\n"
     ]
    }
   ],
   "source": [
    "trainer = RewardTrainer(\n",
    "    model=model,\n",
    "    args=training_args,\n",
    "    tokenizer=tokenizer,\n",
    "    train_dataset=train_dataset,\n",
    "    eval_dataset=val_dataset,\n",
    "    peft_config=peft_config,\n",
    "    compute_metrics=compute_metrics,\n",
    "    max_length=256,\n",
    ")\n"
   ]
  },
  {
   "cell_type": "code",
   "execution_count": 58,
   "metadata": {},
   "outputs": [
    {
     "name": "stderr",
     "output_type": "stream",
     "text": [
      "c:\\Python311\\Lib\\site-packages\\transformers\\optimization.py:411: FutureWarning: This implementation of AdamW is deprecated and will be removed in a future version. Use the PyTorch implementation torch.optim.AdamW instead, or set `no_deprecation_warning=True` to disable this warning\n",
      "  warnings.warn(\n"
     ]
    },
    {
     "data": {
      "application/vnd.jupyter.widget-view+json": {
       "model_id": "868fa600b3b342fdb71f0752c97ec673",
       "version_major": 2,
       "version_minor": 0
      },
      "text/plain": [
       "  0%|          | 0/32000 [00:00<?, ?it/s]"
      ]
     },
     "metadata": {},
     "output_type": "display_data"
    },
    {
     "name": "stderr",
     "output_type": "stream",
     "text": [
      "You're using a BertTokenizerFast tokenizer. Please note that with a fast tokenizer, using the `__call__` method is faster than using a method to encode the text followed by a call to the `pad` method to get a padded encoding.\n",
      "c:\\Python311\\Lib\\site-packages\\transformers\\tokenization_utils_base.py:2411: UserWarning: `max_length` is ignored when `padding`=`True` and there is no truncation strategy. To pad to max length, use `padding='max_length'`.\n",
      "  warnings.warn(\n",
      "Could not estimate the number of tokens of the input, floating-point operations will not be computed\n"
     ]
    },
    {
     "name": "stdout",
     "output_type": "stream",
     "text": [
      "{'loss': 0.6882, 'learning_rate': 4.921875e-05, 'epoch': 0.12}\n",
      "{'loss': 0.6562, 'learning_rate': 4.8437500000000005e-05, 'epoch': 0.25}\n",
      "{'loss': 0.6447, 'learning_rate': 4.765625e-05, 'epoch': 0.38}\n",
      "{'loss': 0.6406, 'learning_rate': 4.6875e-05, 'epoch': 0.5}\n",
      "{'loss': 0.6336, 'learning_rate': 4.609375e-05, 'epoch': 0.62}\n",
      "{'loss': 0.6388, 'learning_rate': 4.5312500000000004e-05, 'epoch': 0.75}\n",
      "{'loss': 0.6351, 'learning_rate': 4.453125e-05, 'epoch': 0.88}\n",
      "{'loss': 0.6185, 'learning_rate': 4.375e-05, 'epoch': 1.0}\n"
     ]
    },
    {
     "data": {
      "application/vnd.jupyter.widget-view+json": {
       "model_id": "e6b429cc59554d4f8784b4be0f0988f6",
       "version_major": 2,
       "version_minor": 0
      },
      "text/plain": [
       "  0%|          | 0/500 [00:00<?, ?it/s]"
      ]
     },
     "metadata": {},
     "output_type": "display_data"
    },
    {
     "name": "stdout",
     "output_type": "stream",
     "text": [
      "{'eval_loss': 0.6250253915786743, 'eval_accuracy': 0.64075, 'eval_runtime': 143.3438, 'eval_samples_per_second': 27.905, 'eval_steps_per_second': 3.488, 'epoch': 1.0}\n"
     ]
    },
    {
     "name": "stderr",
     "output_type": "stream",
     "text": [
      "c:\\Python311\\Lib\\site-packages\\transformers\\tokenization_utils_base.py:2411: UserWarning: `max_length` is ignored when `padding`=`True` and there is no truncation strategy. To pad to max length, use `padding='max_length'`.\n",
      "  warnings.warn(\n"
     ]
    },
    {
     "name": "stdout",
     "output_type": "stream",
     "text": [
      "{'loss': 0.6172, 'learning_rate': 4.2968750000000004e-05, 'epoch': 1.12}\n",
      "{'loss': 0.6278, 'learning_rate': 4.21875e-05, 'epoch': 1.25}\n",
      "{'loss': 0.6267, 'learning_rate': 4.140625e-05, 'epoch': 1.38}\n",
      "{'loss': 0.6274, 'learning_rate': 4.0625000000000005e-05, 'epoch': 1.5}\n",
      "{'loss': 0.6248, 'learning_rate': 3.984375e-05, 'epoch': 1.62}\n",
      "{'loss': 0.6078, 'learning_rate': 3.90625e-05, 'epoch': 1.75}\n",
      "{'loss': 0.6249, 'learning_rate': 3.828125e-05, 'epoch': 1.88}\n",
      "{'loss': 0.6157, 'learning_rate': 3.7500000000000003e-05, 'epoch': 2.0}\n"
     ]
    },
    {
     "data": {
      "application/vnd.jupyter.widget-view+json": {
       "model_id": "797b214d255d47e49363213679aa3b70",
       "version_major": 2,
       "version_minor": 0
      },
      "text/plain": [
       "  0%|          | 0/500 [00:00<?, ?it/s]"
      ]
     },
     "metadata": {},
     "output_type": "display_data"
    },
    {
     "name": "stdout",
     "output_type": "stream",
     "text": [
      "{'eval_loss': 0.6143164038658142, 'eval_accuracy': 0.6605, 'eval_runtime': 143.6905, 'eval_samples_per_second': 27.838, 'eval_steps_per_second': 3.48, 'epoch': 2.0}\n"
     ]
    },
    {
     "name": "stderr",
     "output_type": "stream",
     "text": [
      "c:\\Python311\\Lib\\site-packages\\transformers\\tokenization_utils_base.py:2411: UserWarning: `max_length` is ignored when `padding`=`True` and there is no truncation strategy. To pad to max length, use `padding='max_length'`.\n",
      "  warnings.warn(\n"
     ]
    },
    {
     "name": "stdout",
     "output_type": "stream",
     "text": [
      "{'loss': 0.6155, 'learning_rate': 3.671875e-05, 'epoch': 2.12}\n",
      "{'loss': 0.619, 'learning_rate': 3.59375e-05, 'epoch': 2.25}\n",
      "{'loss': 0.6107, 'learning_rate': 3.5156250000000004e-05, 'epoch': 2.38}\n",
      "{'loss': 0.6087, 'learning_rate': 3.4375e-05, 'epoch': 2.5}\n",
      "{'loss': 0.6066, 'learning_rate': 3.359375e-05, 'epoch': 2.62}\n",
      "{'loss': 0.6075, 'learning_rate': 3.2812500000000005e-05, 'epoch': 2.75}\n",
      "{'loss': 0.5972, 'learning_rate': 3.203125e-05, 'epoch': 2.88}\n",
      "{'loss': 0.6139, 'learning_rate': 3.125e-05, 'epoch': 3.0}\n"
     ]
    },
    {
     "data": {
      "application/vnd.jupyter.widget-view+json": {
       "model_id": "8c6c93a3102f4a39899bd9cac05861e4",
       "version_major": 2,
       "version_minor": 0
      },
      "text/plain": [
       "  0%|          | 0/500 [00:00<?, ?it/s]"
      ]
     },
     "metadata": {},
     "output_type": "display_data"
    },
    {
     "name": "stdout",
     "output_type": "stream",
     "text": [
      "{'eval_loss': 0.6110466122627258, 'eval_accuracy': 0.66475, 'eval_runtime': 142.2232, 'eval_samples_per_second': 28.125, 'eval_steps_per_second': 3.516, 'epoch': 3.0}\n"
     ]
    },
    {
     "name": "stderr",
     "output_type": "stream",
     "text": [
      "c:\\Python311\\Lib\\site-packages\\transformers\\tokenization_utils_base.py:2411: UserWarning: `max_length` is ignored when `padding`=`True` and there is no truncation strategy. To pad to max length, use `padding='max_length'`.\n",
      "  warnings.warn(\n"
     ]
    },
    {
     "name": "stdout",
     "output_type": "stream",
     "text": [
      "{'loss': 0.6055, 'learning_rate': 3.0468750000000002e-05, 'epoch': 3.12}\n",
      "{'loss': 0.6186, 'learning_rate': 2.96875e-05, 'epoch': 3.25}\n",
      "{'loss': 0.6023, 'learning_rate': 2.890625e-05, 'epoch': 3.38}\n",
      "{'loss': 0.5963, 'learning_rate': 2.8125000000000003e-05, 'epoch': 3.5}\n",
      "{'loss': 0.6015, 'learning_rate': 2.734375e-05, 'epoch': 3.62}\n",
      "{'loss': 0.5982, 'learning_rate': 2.6562500000000002e-05, 'epoch': 3.75}\n",
      "{'loss': 0.5977, 'learning_rate': 2.578125e-05, 'epoch': 3.88}\n",
      "{'loss': 0.594, 'learning_rate': 2.5e-05, 'epoch': 4.0}\n"
     ]
    },
    {
     "data": {
      "application/vnd.jupyter.widget-view+json": {
       "model_id": "160af5906b9b454d8cef2a0ead2c3c44",
       "version_major": 2,
       "version_minor": 0
      },
      "text/plain": [
       "  0%|          | 0/500 [00:00<?, ?it/s]"
      ]
     },
     "metadata": {},
     "output_type": "display_data"
    },
    {
     "name": "stdout",
     "output_type": "stream",
     "text": [
      "{'eval_loss': 0.612758994102478, 'eval_accuracy': 0.6675, 'eval_runtime': 139.6517, 'eval_samples_per_second': 28.643, 'eval_steps_per_second': 3.58, 'epoch': 4.0}\n"
     ]
    },
    {
     "name": "stderr",
     "output_type": "stream",
     "text": [
      "c:\\Python311\\Lib\\site-packages\\transformers\\tokenization_utils_base.py:2411: UserWarning: `max_length` is ignored when `padding`=`True` and there is no truncation strategy. To pad to max length, use `padding='max_length'`.\n",
      "  warnings.warn(\n"
     ]
    },
    {
     "name": "stdout",
     "output_type": "stream",
     "text": [
      "{'loss': 0.5977, 'learning_rate': 2.4218750000000003e-05, 'epoch': 4.12}\n",
      "{'loss': 0.597, 'learning_rate': 2.34375e-05, 'epoch': 4.25}\n",
      "{'loss': 0.5918, 'learning_rate': 2.2656250000000002e-05, 'epoch': 4.38}\n",
      "{'loss': 0.5948, 'learning_rate': 2.1875e-05, 'epoch': 4.5}\n",
      "{'loss': 0.5903, 'learning_rate': 2.109375e-05, 'epoch': 4.62}\n",
      "{'loss': 0.5936, 'learning_rate': 2.0312500000000002e-05, 'epoch': 4.75}\n",
      "{'loss': 0.5831, 'learning_rate': 1.953125e-05, 'epoch': 4.88}\n",
      "{'loss': 0.5947, 'learning_rate': 1.8750000000000002e-05, 'epoch': 5.0}\n"
     ]
    },
    {
     "data": {
      "application/vnd.jupyter.widget-view+json": {
       "model_id": "c55e68a0ecb54c98a4231bd7b2154bb5",
       "version_major": 2,
       "version_minor": 0
      },
      "text/plain": [
       "  0%|          | 0/500 [00:00<?, ?it/s]"
      ]
     },
     "metadata": {},
     "output_type": "display_data"
    },
    {
     "name": "stdout",
     "output_type": "stream",
     "text": [
      "{'eval_loss': 0.6098501086235046, 'eval_accuracy': 0.66925, 'eval_runtime': 139.5495, 'eval_samples_per_second': 28.664, 'eval_steps_per_second': 3.583, 'epoch': 5.0}\n"
     ]
    },
    {
     "name": "stderr",
     "output_type": "stream",
     "text": [
      "c:\\Python311\\Lib\\site-packages\\transformers\\tokenization_utils_base.py:2411: UserWarning: `max_length` is ignored when `padding`=`True` and there is no truncation strategy. To pad to max length, use `padding='max_length'`.\n",
      "  warnings.warn(\n"
     ]
    },
    {
     "name": "stdout",
     "output_type": "stream",
     "text": [
      "{'loss': 0.5819, 'learning_rate': 1.796875e-05, 'epoch': 5.12}\n",
      "{'loss': 0.5912, 'learning_rate': 1.71875e-05, 'epoch': 5.25}\n",
      "{'loss': 0.582, 'learning_rate': 1.6406250000000002e-05, 'epoch': 5.38}\n",
      "{'loss': 0.576, 'learning_rate': 1.5625e-05, 'epoch': 5.5}\n",
      "{'loss': 0.5764, 'learning_rate': 1.484375e-05, 'epoch': 5.62}\n",
      "{'loss': 0.5853, 'learning_rate': 1.4062500000000001e-05, 'epoch': 5.75}\n",
      "{'loss': 0.5843, 'learning_rate': 1.3281250000000001e-05, 'epoch': 5.88}\n",
      "{'loss': 0.5921, 'learning_rate': 1.25e-05, 'epoch': 6.0}\n"
     ]
    },
    {
     "data": {
      "application/vnd.jupyter.widget-view+json": {
       "model_id": "02158529610f4e119b04313c761344cb",
       "version_major": 2,
       "version_minor": 0
      },
      "text/plain": [
       "  0%|          | 0/500 [00:00<?, ?it/s]"
      ]
     },
     "metadata": {},
     "output_type": "display_data"
    },
    {
     "name": "stdout",
     "output_type": "stream",
     "text": [
      "{'eval_loss': 0.6071081757545471, 'eval_accuracy': 0.67425, 'eval_runtime': 140.8946, 'eval_samples_per_second': 28.39, 'eval_steps_per_second': 3.549, 'epoch': 6.0}\n"
     ]
    },
    {
     "name": "stderr",
     "output_type": "stream",
     "text": [
      "c:\\Python311\\Lib\\site-packages\\transformers\\tokenization_utils_base.py:2411: UserWarning: `max_length` is ignored when `padding`=`True` and there is no truncation strategy. To pad to max length, use `padding='max_length'`.\n",
      "  warnings.warn(\n"
     ]
    },
    {
     "name": "stdout",
     "output_type": "stream",
     "text": [
      "{'loss': 0.5799, 'learning_rate': 1.171875e-05, 'epoch': 6.12}\n",
      "{'loss': 0.5794, 'learning_rate': 1.09375e-05, 'epoch': 6.25}\n",
      "{'loss': 0.5804, 'learning_rate': 1.0156250000000001e-05, 'epoch': 6.38}\n",
      "{'loss': 0.583, 'learning_rate': 9.375000000000001e-06, 'epoch': 6.5}\n",
      "{'loss': 0.5792, 'learning_rate': 8.59375e-06, 'epoch': 6.62}\n",
      "{'loss': 0.5706, 'learning_rate': 7.8125e-06, 'epoch': 6.75}\n",
      "{'loss': 0.5749, 'learning_rate': 7.031250000000001e-06, 'epoch': 6.88}\n",
      "{'loss': 0.585, 'learning_rate': 6.25e-06, 'epoch': 7.0}\n"
     ]
    },
    {
     "data": {
      "application/vnd.jupyter.widget-view+json": {
       "model_id": "b545f192e4e3413fb436b044ab544bae",
       "version_major": 2,
       "version_minor": 0
      },
      "text/plain": [
       "  0%|          | 0/500 [00:00<?, ?it/s]"
      ]
     },
     "metadata": {},
     "output_type": "display_data"
    },
    {
     "name": "stdout",
     "output_type": "stream",
     "text": [
      "{'eval_loss': 0.6101868748664856, 'eval_accuracy': 0.67275, 'eval_runtime': 139.4081, 'eval_samples_per_second': 28.693, 'eval_steps_per_second': 3.587, 'epoch': 7.0}\n"
     ]
    },
    {
     "name": "stderr",
     "output_type": "stream",
     "text": [
      "c:\\Python311\\Lib\\site-packages\\transformers\\tokenization_utils_base.py:2411: UserWarning: `max_length` is ignored when `padding`=`True` and there is no truncation strategy. To pad to max length, use `padding='max_length'`.\n",
      "  warnings.warn(\n"
     ]
    },
    {
     "name": "stdout",
     "output_type": "stream",
     "text": [
      "{'loss': 0.577, 'learning_rate': 5.46875e-06, 'epoch': 7.12}\n",
      "{'loss': 0.5773, 'learning_rate': 4.6875000000000004e-06, 'epoch': 7.25}\n",
      "{'loss': 0.5711, 'learning_rate': 3.90625e-06, 'epoch': 7.38}\n",
      "{'loss': 0.5765, 'learning_rate': 3.125e-06, 'epoch': 7.5}\n",
      "{'loss': 0.5833, 'learning_rate': 2.3437500000000002e-06, 'epoch': 7.62}\n",
      "{'loss': 0.5594, 'learning_rate': 1.5625e-06, 'epoch': 7.75}\n",
      "{'loss': 0.5822, 'learning_rate': 7.8125e-07, 'epoch': 7.88}\n",
      "{'loss': 0.5703, 'learning_rate': 0.0, 'epoch': 8.0}\n"
     ]
    },
    {
     "data": {
      "application/vnd.jupyter.widget-view+json": {
       "model_id": "6fe339dc17aa4c5588ea20f5ef74985a",
       "version_major": 2,
       "version_minor": 0
      },
      "text/plain": [
       "  0%|          | 0/500 [00:00<?, ?it/s]"
      ]
     },
     "metadata": {},
     "output_type": "display_data"
    },
    {
     "name": "stdout",
     "output_type": "stream",
     "text": [
      "{'eval_loss': 0.6113418936729431, 'eval_accuracy': 0.67275, 'eval_runtime': 140.1212, 'eval_samples_per_second': 28.547, 'eval_steps_per_second': 3.568, 'epoch': 8.0}\n",
      "{'train_runtime': 20834.5183, 'train_samples_per_second': 12.287, 'train_steps_per_second': 1.536, 'train_loss': 0.600979121208191, 'epoch': 8.0}\n"
     ]
    },
    {
     "data": {
      "text/plain": [
       "TrainOutput(global_step=32000, training_loss=0.600979121208191, metrics={'train_runtime': 20834.5183, 'train_samples_per_second': 12.287, 'train_steps_per_second': 1.536, 'train_loss': 0.600979121208191, 'epoch': 8.0})"
      ]
     },
     "execution_count": 58,
     "metadata": {},
     "output_type": "execute_result"
    }
   ],
   "source": [
    "trainer.train()"
   ]
  },
  {
   "cell_type": "code",
   "execution_count": 59,
   "metadata": {},
   "outputs": [
    {
     "data": {
      "text/plain": [
       "('./model_bert_hf_experiment2/tokenizer_config.json',\n",
       " './model_bert_hf_experiment2/special_tokens_map.json',\n",
       " './model_bert_hf_experiment2/vocab.txt',\n",
       " './model_bert_hf_experiment2/added_tokens.json',\n",
       " './model_bert_hf_experiment2/tokenizer.json')"
      ]
     },
     "execution_count": 59,
     "metadata": {},
     "output_type": "execute_result"
    }
   ],
   "source": [
    "# Save the model and tokenizer\n",
    "model.save_pretrained(\"./model_bert_hf_experiment2/\")\n",
    "tokenizer.save_pretrained(\"./model_bert_hf_experiment2/\")"
   ]
  },
  {
   "cell_type": "markdown",
   "metadata": {},
   "source": [
    "### Load model if necessary"
   ]
  },
  {
   "cell_type": "code",
   "execution_count": null,
   "metadata": {},
   "outputs": [],
   "source": [
    "model = AutoModelForSequenceClassification.from_pretrained(\"./model_bert_hf_experiment2/\")\n",
    "tokenizer = AutoTokenizer.from_pretrained(\"./model_bert_hf_experiment2/\")\n"
   ]
  },
  {
   "cell_type": "markdown",
   "metadata": {},
   "source": [
    "### Evaluate"
   ]
  },
  {
   "cell_type": "code",
   "execution_count": 60,
   "metadata": {},
   "outputs": [
    {
     "name": "stderr",
     "output_type": "stream",
     "text": [
      "c:\\Python311\\Lib\\site-packages\\transformers\\tokenization_utils_base.py:2411: UserWarning: `max_length` is ignored when `padding`=`True` and there is no truncation strategy. To pad to max length, use `padding='max_length'`.\n",
      "  warnings.warn(\n"
     ]
    },
    {
     "data": {
      "application/vnd.jupyter.widget-view+json": {
       "model_id": "d0513b41271042e6abfed6e366212ff1",
       "version_major": 2,
       "version_minor": 0
      },
      "text/plain": [
       "  0%|          | 0/500 [00:00<?, ?it/s]"
      ]
     },
     "metadata": {},
     "output_type": "display_data"
    },
    {
     "name": "stdout",
     "output_type": "stream",
     "text": [
      "{'eval_loss': 0.6113418936729431, 'eval_accuracy': 0.67275, 'eval_runtime': 140.2892, 'eval_samples_per_second': 28.513, 'eval_steps_per_second': 3.564, 'epoch': 8.0}\n"
     ]
    }
   ],
   "source": [
    "# Evaluate the model\n",
    "results = trainer.evaluate()\n",
    "\n",
    "# Print metrics\n",
    "print(results)"
   ]
  },
  {
   "cell_type": "code",
   "execution_count": 61,
   "metadata": {},
   "outputs": [
    {
     "name": "stderr",
     "output_type": "stream",
     "text": [
      "c:\\Python311\\Lib\\site-packages\\transformers\\tokenization_utils_base.py:2411: UserWarning: `max_length` is ignored when `padding`=`True` and there is no truncation strategy. To pad to max length, use `padding='max_length'`.\n",
      "  warnings.warn(\n"
     ]
    },
    {
     "data": {
      "application/vnd.jupyter.widget-view+json": {
       "model_id": "983a59571ba744649c2e1e843f349738",
       "version_major": 2,
       "version_minor": 0
      },
      "text/plain": [
       "  0%|          | 0/500 [00:00<?, ?it/s]"
      ]
     },
     "metadata": {},
     "output_type": "display_data"
    }
   ],
   "source": [
    "# Get predictions\n",
    "predictions, label_ids, _ = trainer.predict(val_dataset)"
   ]
  },
  {
   "cell_type": "code",
   "execution_count": 62,
   "metadata": {},
   "outputs": [
    {
     "name": "stdout",
     "output_type": "stream",
     "text": [
      "Accuracy: 0.67275\n"
     ]
    }
   ],
   "source": [
    "# Convert logits to labels\n",
    "predicted_labels = np.argmax(predictions, axis=1)\n",
    "\n",
    "# Compute accuracy or any other metric\n",
    "from sklearn.metrics import accuracy_score\n",
    "accuracy = accuracy_score(label_ids, predicted_labels)\n",
    "print(\"Accuracy:\", accuracy)"
   ]
  },
  {
   "cell_type": "markdown",
   "metadata": {},
   "source": [
    "### Inference"
   ]
  },
  {
   "cell_type": "code",
   "execution_count": 69,
   "metadata": {},
   "outputs": [],
   "source": [
    "import torch.nn.functional as F\n",
    "\n",
    "def score_summaries(model, tokenizer, chosen_summary, rejected_summary):\n",
    "    # Tokenize the inputs\n",
    "    chosen_tokens = tokenizer(chosen_summary, return_tensors=\"pt\", padding='max_length', truncation=True, max_length=512)\n",
    "    rejected_tokens = tokenizer(rejected_summary, return_tensors=\"pt\", padding='max_length', truncation=True, max_length=512)\n",
    "    \n",
    "    chosen_tokens.to(device)\n",
    "    rejected_tokens.to(device)\n",
    "    \n",
    "    # Get logits from the model\n",
    "    with torch.no_grad():\n",
    "        chosen_logits = model(**chosen_tokens).logits\n",
    "        rejected_logits = model(**rejected_tokens).logits\n",
    "    \n",
    "    # Apply softmax to get probabilities\n",
    "    chosen_probs = F.softmax(chosen_logits, dim=-1)\n",
    "    rejected_probs = F.softmax(rejected_logits, dim=-1)\n",
    "\n",
    "    # Assuming the positive class (indicating 'chosen' is good) is the second one\n",
    "    chosen_score = chosen_probs[0][1].item()\n",
    "    rejected_score = rejected_probs[0][1].item()\n",
    "    \n",
    "    # Extract logits for each summary\n",
    "    chosen_logit = chosen_logits[0][1].item()\n",
    "    rejected_logit = rejected_logits[0][1].item()\n",
    "\n",
    "    return chosen_score, rejected_score, chosen_logit, rejected_logit\n",
    "    "
   ]
  },
  {
   "cell_type": "code",
   "execution_count": 70,
   "metadata": {},
   "outputs": [],
   "source": [
    "# Example usage\n",
    "chosen_summary = \"TL;DR: My Girlfriend of 15 months went through my Facebook messages without my permission and found old conversations of me flirting with a girl. She broke up with me and went no contact.\"\n",
    "rejected_summary = \"TL;DR: My girlfriend and I broke up after she went through my Facebook account without my permission.<|endoftext|>Citizens for the Republic\""
   ]
  },
  {
   "cell_type": "code",
   "execution_count": 71,
   "metadata": {},
   "outputs": [
    {
     "name": "stdout",
     "output_type": "stream",
     "text": [
      "Chosen Score: 0.4981\n",
      "Rejected Score: 0.5131\n",
      "Chosen Logit: 0.0200\n",
      "Rejected Logit: -1.3241\n"
     ]
    }
   ],
   "source": [
    "chosen_score, rejected_score, chosen_logit, rejected_logit = score_summaries(model, tokenizer, chosen_summary, rejected_summary)\n",
    "\n",
    "print(f\"Chosen Score: {chosen_score:.4f}\")\n",
    "print(f\"Rejected Score: {rejected_score:.4f}\")\n",
    "\n",
    "print(f\"Chosen Logit: {chosen_logit:.4f}\")\n",
    "print(f\"Rejected Logit: {rejected_logit:.4f}\")\n"
   ]
  },
  {
   "cell_type": "code",
   "execution_count": null,
   "metadata": {},
   "outputs": [],
   "source": [
    "test_dataset "
   ]
  },
  {
   "cell_type": "code",
   "execution_count": 68,
   "metadata": {},
   "outputs": [
    {
     "name": "stdout",
     "output_type": "stream",
     "text": [
      "Sample 1 - Chosen Logit: 0.7876 | Rejected Logit: 0.1472\n",
      "Sample 2 - Chosen Logit: 0.7826 | Rejected Logit: 0.6687\n",
      "Sample 3 - Chosen Logit: 0.5691 | Rejected Logit: 0.2868\n",
      "Sample 4 - Chosen Logit: 1.5987 | Rejected Logit: 1.3197\n",
      "Sample 5 - Chosen Logit: 0.5945 | Rejected Logit: 0.2571\n",
      "Sample 6 - Chosen Logit: -1.4813 | Rejected Logit: -0.6219\n",
      "Sample 7 - Chosen Logit: 0.2960 | Rejected Logit: -3.3139\n",
      "Sample 8 - Chosen Logit: 0.0979 | Rejected Logit: 0.4782\n",
      "Sample 9 - Chosen Logit: 0.4443 | Rejected Logit: -0.7533\n",
      "Sample 10 - Chosen Logit: -0.0003 | Rejected Logit: 0.7359\n",
      "Sample 11 - Chosen Logit: -0.0742 | Rejected Logit: 0.8884\n",
      "Sample 12 - Chosen Logit: -0.6051 | Rejected Logit: 1.3530\n",
      "Sample 13 - Chosen Logit: 0.1496 | Rejected Logit: 1.0381\n",
      "Sample 14 - Chosen Logit: 1.6363 | Rejected Logit: -0.3961\n",
      "Sample 15 - Chosen Logit: -1.4088 | Rejected Logit: -0.3917\n",
      "Sample 16 - Chosen Logit: -0.3622 | Rejected Logit: -1.1410\n",
      "Sample 17 - Chosen Logit: 0.4717 | Rejected Logit: -2.4015\n",
      "Sample 18 - Chosen Logit: 0.1303 | Rejected Logit: -0.6607\n",
      "Sample 19 - Chosen Logit: -1.5177 | Rejected Logit: -0.9999\n",
      "Sample 20 - Chosen Logit: 1.3245 | Rejected Logit: 2.5138\n"
     ]
    }
   ],
   "source": [
    "\n",
    "def evaluate_on_test_samples(model, tokenizer, test_data, n):\n",
    "    results = []\n",
    "    for i in range(n):\n",
    "        chosen_summary = test_data['chosen'][i]\n",
    "        rejected_summary = test_data['rejected'][i]\n",
    "        \n",
    "        chosen_score, rejected_score, chosen_logit, rejected_logit = score_summaries(model, tokenizer, chosen_summary, rejected_summary)\n",
    "        results.append({\n",
    "            'chosen_summary': chosen_summary,\n",
    "            'rejected_summary': rejected_summary,\n",
    "            'chosen_score': chosen_score,\n",
    "            'rejected_score': rejected_score,\n",
    "            'chosen_logit': chosen_logit,\n",
    "            'rejected_logit': rejected_logit\n",
    "        })\n",
    "    return results\n",
    "\n",
    "# Run the evaluation on top 'n' samples\n",
    "n = 20  # or any other number up to 2500\n",
    "results = evaluate_on_test_samples(model, tokenizer, test_dataset, n)\n",
    "\n",
    "# Print results\n",
    "for i, result in enumerate(results, 1):\n",
    "    print(f\"Sample {i} - Chosen Logit: {result['chosen_logit']:.4f} | Rejected Logit: {result['rejected_logit']:.4f}\")\n",
    "    #print(f\"Sample {i} - Chosen Score: {result['chosen_score']:.4f} | Chosen Logit: {result['chosen_logit']:.4f} - Rejected Score: {result['rejected_score']:.4f} | Rejected Logit: {result['rejected_logit']:.4f}\")\n",
    "    #print(f\"Sample {i} - Chosen Summary: {result['chosen_summary']} - Score: {result['chosen_score']:.4f} | Logit: {result['chosen_logit']:.4f}\")\n",
    "    #print(f\"Chosen Summary: {result['chosen_summary']}\")\n",
    "    #print(f\"Chosen Score: {result['chosen_score']:.4f} | Logit: {result['chosen_logit']:.4f}\")\n",
    "    #print(f\"Rejected Summary: {result['rejected_summary']} - Rejected Score: {result['rejected_score']:.4f} | Logit: {result['rejected_logit']:.4f}\")\n",
    "    #print(f\"Rejected Score: {result['rejected_score']:.4f} | Logit: {result['rejected_logit']:.4f}\")\n",
    "    #print(\"-\" * 50)\n"
   ]
  },
  {
   "cell_type": "code",
   "execution_count": null,
   "metadata": {},
   "outputs": [],
   "source": []
  }
 ],
 "metadata": {
  "kernelspec": {
   "display_name": "Python 3",
   "language": "python",
   "name": "python3"
  },
  "language_info": {
   "codemirror_mode": {
    "name": "ipython",
    "version": 3
   },
   "file_extension": ".py",
   "mimetype": "text/x-python",
   "name": "python",
   "nbconvert_exporter": "python",
   "pygments_lexer": "ipython3",
   "version": "3.11.3"
  },
  "orig_nbformat": 4
 },
 "nbformat": 4,
 "nbformat_minor": 2
}
