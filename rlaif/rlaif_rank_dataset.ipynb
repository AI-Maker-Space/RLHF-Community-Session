{
  "cells": [
    {
      "cell_type": "markdown",
      "metadata": {},
      "source": [
        "# RLAIF in general terms\n",
        "\n",
        "Here's a breakdown of the process:\n",
        "\n",
        "**Using LLM as a Labeler:** Instead of relying on humans to rank or rate responses, a pretrained LLM is used. Given two candidate summaries (or responses), the LLM is tasked with determining which is better based on certain criteria.\n",
        "\n",
        "**Training a Reward Model:** The LLM's soft preferences (i.e., its judgments on which response is better) are then used to train a lightweight reward model.\n",
        "\n",
        "**RL Fine-tuning:** The main model is then fine-tuned using reinforcement learning, where the reward signal comes from the previously trained reward model.\n",
        "\n",
        "**Enhancing Alignment with Human Preferences:** To ensure that the AI's preferences align well with human preferences, researchers experimented with various techniques. Detailed rating instructions and eliciting explanatory reasoning from the LLM seem to improve the alignment, while certain strategies like providing exemplar annotations did not.\n",
        "\n",
        "The main advantage of this approach is *scalability*. \n",
        "\n",
        "By using an LLM for generating preference data, it's possible to generate a much larger dataset at a fraction of the time and cost compared to human raters. However, it's critical to ensure that the LLM's preferences are genuinely aligned with human values and do not drift into generating biased or undesired outputs."
      ]
    },
    {
      "cell_type": "code",
      "execution_count": null,
      "metadata": {
        "colab": {
          "base_uri": "https://localhost:8080/"
        },
        "id": "cyof9g4MBTFW",
        "outputId": "e748d48a-f4fc-4a7d-99bf-d508cda372cf"
      },
      "outputs": [],
      "source": [
        "# !pip install -q torch\n",
        "# !pip install -q datasets\n",
        "# !pip install -q openai"
      ]
    },
    {
      "cell_type": "code",
      "execution_count": 1,
      "metadata": {
        "id": "2iAkZWcJHoyP"
      },
      "outputs": [],
      "source": [
        "import os\n",
        "import torch\n",
        "import openai\n",
        "import random\n",
        "import getpass\n",
        "import json\n",
        "\n",
        "from datasets import load_dataset, Dataset as HFDataset"
      ]
    },
    {
      "cell_type": "code",
      "execution_count": 2,
      "metadata": {
        "id": "iAJvJ1SwHz5n"
      },
      "outputs": [],
      "source": [
        "device = torch.device(\"cuda\" if torch.cuda.is_available() else \"cpu\")\n",
        "torch.cuda.empty_cache()"
      ]
    },
    {
      "cell_type": "code",
      "execution_count": 55,
      "metadata": {
        "colab": {
          "base_uri": "https://localhost:8080/"
        },
        "id": "cniFgElnH6Bv",
        "outputId": "63e6f2d7-9821-49c6-d516-53d97f435f60"
      },
      "outputs": [],
      "source": [
        "openai_api_key = getpass.getpass(\"Enter your OpenAI API Key: \")\n",
        "os.environ[\"OPENAI_API_KEY\"] = openai_api_key\n",
        "openai.api_key = openai_api_key"
      ]
    },
    {
      "cell_type": "markdown",
      "metadata": {},
      "source": [
        "# Constitutional RLAIF\n",
        "\n",
        "\"Constitutional RLAIF\" is an approach for training AI systems in a way that adheres to certain principles or guidelines, making the system's responses safer and more aligned with human values.\n",
        "\n",
        "### In summary, the idea is:\n",
        "\n",
        "- Evaluation according to constitutional principles: AI evaluations of potential responses are carried out in accordance with a predefined set of guidelines (constitutional guidelines in this case).\n",
        "\n",
        "- Preference Data Generation: Based on the evaluations, the system generates preference data indicating which responses are more desirable based on the constitutional principles.\n",
        "\n",
        "- Reinforcement Learning from AI Feedback (RLAIF): This preference data is then used to train a new model via reinforcement learning.\n",
        "\n",
        "- The provided constitutional guidelines serve as a \"constitution\" for the AI's behavior, ensuring that the generated outputs are more in line with what's deemed safe, accurate, and non-offensive.\n",
        "\n",
        "**This concept makes AI models more controllable, interpretable, and safe.** Using a set of strict guidelines and then training via reinforcement learning based on feedback can help ensure that the AI behaves in a way that's consistent with these guidelines.\n",
        "\n",
        "**Challenges**: The precision of evaluation against these guidelines, the comprehensiveness of the guidelines themselves, and the inherent challenges of reinforcement learning (like reward hacking, wherein the model finds unintended ways to maximize its reward) are potential challenges to address.\n"
      ]
    },
    {
      "cell_type": "markdown",
      "metadata": {
        "id": "1Eaxmyt3NLG4"
      },
      "source": [
        "### Set the Constitution"
      ]
    },
    {
      "cell_type": "code",
      "execution_count": 3,
      "metadata": {
        "id": "za69-q6FMWqM"
      },
      "outputs": [],
      "source": [
        "constitution = \"\"\"\n",
        "```CONSTITUTION\n",
        "Writing a good summary involves condensing a larger piece of text or content while preserving its key information and main points. Here are some principles to keep in mind when crafting an effective summary:\n",
        "\n",
        "Understand the Material: Before summarizing, thoroughly read or engage with the material to ensure you grasp its main ideas, themes, and supporting details. This comprehension is crucial for creating an accurate summary.\n",
        "\n",
        "Identify Key Points: Identify the most important and relevant information within the text. These are the ideas or facts that are essential for a reader to understand the content's core message.\n",
        "\n",
        "Conciseness: Summaries should be concise and to the point. Eliminate unnecessary details, examples, or repetitions. Strive for clarity and brevity.\n",
        "\n",
        "Maintain the Original's Structure: Try to preserve the original structure of the content, including the main ideas' logical flow. This helps maintain coherence and ensures your summary remains faithful to the original.\n",
        "\n",
        "Use Your Own Words: Summarize in your own words rather than copying and pasting from the source. This demonstrates your understanding and avoids issues of plagiarism.\n",
        "\n",
        "Highlight Main Ideas: Emphasize the primary concepts and arguments presented in the material. These are often found in topic sentences, headings, or concluding statements.\n",
        "\n",
        "Avoid Personal Opinions: A summary should be objective and not include your personal opinions or interpretations. Stick to presenting the author's ideas.\n",
        "\n",
        "Provide Context: Offer some context or background information when necessary to help readers understand the summarized content, especially if it's complex or unfamiliar.\n",
        "\n",
        "Use Signal Phrases: Use phrases like \"According to,\" \"In summary,\" \"The author argues,\" to introduce the author's ideas and maintain clarity about whose perspective is being summarized.\n",
        "\n",
        "Check for Accuracy: Ensure that your summary accurately represents the original content. Avoid distorting or misrepresenting the author's ideas.\n",
        "\n",
        "Review and Edit: After writing the summary, review it for clarity, grammar, and coherence. Ensure that it reads smoothly and is free of errors.\n",
        "```\n",
        "\"\"\"\n",
        "\n",
        "prefix = \"\"\"You are an expert in summarization. Your job it to rank summaries.\n",
        "To rank the summaries follow the principles in the CONSTITUTION given below in triple backtips.\n",
        "You will be given one full text and two summaries for this text. You have to rank which is the best summary.\n",
        "First, read both summaries. Then, denote the best as \"chosen\" and the other as \"rejected\".\n",
        "Your output should be a simple dictionary:\n",
        "{ \"chosen\" : x, \"rejected\": y}\n",
        ", where x, y is 1, 2 or 2, 1 depending on the sequence that the two summaries are read.\n",
        "\\n\n",
        "  \"\"\"\n",
        "\n",
        "system_prompt = f\"{prefix, constitution}\""
      ]
    },
    {
      "cell_type": "markdown",
      "metadata": {
        "id": "9nZ_poTeqKSw"
      },
      "source": [
        "### Load the dataset"
      ]
    },
    {
      "cell_type": "code",
      "execution_count": 4,
      "metadata": {
        "id": "nZgrIHvoIRLx"
      },
      "outputs": [
        {
          "data": {
            "application/vnd.jupyter.widget-view+json": {
              "model_id": "4aaff5c7547e463084f3d95abdc5fe75",
              "version_major": 2,
              "version_minor": 0
            },
            "text/plain": [
              "Downloading readme:   0%|          | 0.00/285 [00:00<?, ?B/s]"
            ]
          },
          "metadata": {},
          "output_type": "display_data"
        },
        {
          "name": "stdout",
          "output_type": "stream",
          "text": [
            "Downloading and preparing dataset None/None to C:/Users/JCO/.cache/huggingface/datasets/JuanKO___parquet/JuanKO--T5_summarization_RLAIF-a814ccf9cfb05b9a/0.0.0/2a3b91fbd88a2c90d1dbbb32b460cf621d31bd5b05b934492fdef7d8d6f236ec...\n"
          ]
        },
        {
          "data": {
            "application/vnd.jupyter.widget-view+json": {
              "model_id": "2606aca3031a458084fe48c521a47ef3",
              "version_major": 2,
              "version_minor": 0
            },
            "text/plain": [
              "Downloading data files:   0%|          | 0/1 [00:00<?, ?it/s]"
            ]
          },
          "metadata": {},
          "output_type": "display_data"
        },
        {
          "data": {
            "application/vnd.jupyter.widget-view+json": {
              "model_id": "74b85bd9f9484bf49a13b0ae983e2d4a",
              "version_major": 2,
              "version_minor": 0
            },
            "text/plain": [
              "Downloading data:   0%|          | 0.00/906k [00:00<?, ?B/s]"
            ]
          },
          "metadata": {},
          "output_type": "display_data"
        },
        {
          "data": {
            "application/vnd.jupyter.widget-view+json": {
              "model_id": "3676a66ac7b0473e8db3bd7e27a7832a",
              "version_major": 2,
              "version_minor": 0
            },
            "text/plain": [
              "Extracting data files:   0%|          | 0/1 [00:00<?, ?it/s]"
            ]
          },
          "metadata": {},
          "output_type": "display_data"
        },
        {
          "data": {
            "application/vnd.jupyter.widget-view+json": {
              "model_id": "019d32852ff0436d8add04cd67c7c6f3",
              "version_major": 2,
              "version_minor": 0
            },
            "text/plain": [
              "Generating train split:   0%|          | 0/1000 [00:00<?, ? examples/s]"
            ]
          },
          "metadata": {},
          "output_type": "display_data"
        },
        {
          "name": "stdout",
          "output_type": "stream",
          "text": [
            "Dataset parquet downloaded and prepared to C:/Users/JCO/.cache/huggingface/datasets/JuanKO___parquet/JuanKO--T5_summarization_RLAIF-a814ccf9cfb05b9a/0.0.0/2a3b91fbd88a2c90d1dbbb32b460cf621d31bd5b05b934492fdef7d8d6f236ec. Subsequent calls will reuse this data.\n"
          ]
        }
      ],
      "source": [
        "summaries_dataset = load_dataset('JuanKO/T5_summarization_RLAIF', split='train')"
      ]
    },
    {
      "cell_type": "code",
      "execution_count": 5,
      "metadata": {
        "colab": {
          "base_uri": "https://localhost:8080/"
        },
        "id": "DEzNEiTstFvs",
        "outputId": "13e1c404-466a-45d0-9c0e-9efdce23205c"
      },
      "outputs": [
        {
          "data": {
            "text/plain": [
              "{'prompt': 'SUBREDDIT: r/AskReddit\\nTITLE: Today i had a table call me a god-hating queer loving peice of trash, reddit what\\'s the worst customer you\\'ve dealt with?\\nPOST: I was in a section with another waiter who happens to be gay, when i came up to the table i was greeted with: \"wait, you ain\\'t queer too are ya? That faggy one came by and i told him i need a new waiter\" Shocked and apalled i answered as i polite as i could: \"No sir, I am not gay but i do find it appalling the amount of hatred you have for someones entire existence, i think you\\'re going to need another waiter because i can\\'t take care of you\" He then proceeded to call me a \"queer loving god-hating piece of trash\" Thank god he left after my manager talked to him and asked him to treat his employees with more respect or he wouldn\\'t be served. On the plus side the table next to him overheard the entire thing and gave me a $20 tip and told me i handled such an awful situation \"eloquently\"',\n",
              " 'summary_1': 'TL;DR: Is bisexuality important to my bf? When do you think it is appropriate to tell him.',\n",
              " 'summary_2': 'TL;DR: I am in a hetero relationship and the man is bisexual. Is this >something that he needs to know? Is this really something that is important? When do you think is the right time?'}"
            ]
          },
          "execution_count": 5,
          "metadata": {},
          "output_type": "execute_result"
        }
      ],
      "source": [
        "summaries_dataset[0]"
      ]
    },
    {
      "cell_type": "markdown",
      "metadata": {
        "id": "zujnLQDnt70m"
      },
      "source": [
        "### Rank the entire summary dataset"
      ]
    },
    {
      "cell_type": "code",
      "execution_count": 59,
      "metadata": {
        "id": "Vi_mRAccvcxm"
      },
      "outputs": [],
      "source": [
        "def rank_summaries(example, **kwargs):\n",
        "  \n",
        "    example = dict(example)  \n",
        "  \n",
        "    content_response = \"\"\n",
        "    prompt_tokens = 0 \n",
        "    completion_tokens = 0\n",
        "    total_tokens = 0\n",
        "    is_random = False \n",
        "    error_msg = \"\"\n",
        "\n",
        "    ranked_summaries = {}\n",
        "\n",
        "    full_text = example['prompt']\n",
        "    summary_1 = example['summary_1']\n",
        "    summary_2 = example['summary_2']\n",
        "\n",
        "    summaries = f\"\"\"\\n FULL TEXT: {full_text}\n",
        "    \\n SUMMARY 1: \\n {summary_1}\n",
        "    \\n SUMMARY 2: \\n {summary_2}\n",
        "\n",
        "    Now rank the two summaries as instructed and using the given CONSTITUTION:\n",
        "    \"\"\"\n",
        "\n",
        "    temperature   = kwargs['temperature']\n",
        "    model         = kwargs['model']\n",
        "    system_prompt = kwargs['system_prompt']\n",
        "\n",
        "    try:\n",
        "      response = openai.ChatCompletion.create(\n",
        "          temperature = temperature,\n",
        "          model=model,\n",
        "          messages=[{\"role\": \"system\", \"content\": system_prompt}, {\"role\": \"user\", \"content\": summaries}]\n",
        "      )\n",
        "   \n",
        "      content_response_str = response['choices'][0]['message']['content'] \n",
        "      content_response = json.loads(content_response_str)  \n",
        "     \n",
        "      prompt_tokens = response['usage']['prompt_tokens']\n",
        "      completion_tokens = response['usage']['completion_tokens']\n",
        "      total_tokens = response['usage']['total_tokens']\n",
        "      is_random = False\n",
        "    \n",
        "    except Exception as e:\n",
        "      is_random = True \n",
        "      error_msg = str(e)\n",
        "      c   = random.randint(1,2)\n",
        "      if c == 1:\n",
        "        r = 2\n",
        "      else:\n",
        "        r = 1\n",
        "      content_response = {'chosen': c, 'rejected': r}\n",
        "\n",
        "    ranked_summaries['chosen']   = example['summary_' + str(content_response['chosen'])]\n",
        "    ranked_summaries['rejected'] = example['summary_' + str(content_response['rejected'])]\n",
        "    ranked_summaries['prompt_tokens'] = prompt_tokens\n",
        "    ranked_summaries['completion_tokens'] = completion_tokens\n",
        "    ranked_summaries['total_tokens'] = total_tokens\n",
        "    ranked_summaries['is_random'] = is_random\n",
        "    ranked_summaries['error_msg'] = error_msg\n",
        "    \n",
        "    return ranked_summaries"
      ]
    },
    {
      "cell_type": "code",
      "execution_count": 60,
      "metadata": {
        "colab": {
          "base_uri": "https://localhost:8080/",
          "height": 49,
          "referenced_widgets": [
            "22595d69ea064f3fbf380ff2e700c38c",
            "3c566a65ce054fdaba98ac6ac72d4f24",
            "dce3d229802043089dc1e9db339b0f56",
            "791b132ec2964410a07ddb69b9232f0b",
            "a347256d40ee4908869c0c6abebd8e82",
            "2e57acd6d9f34c4f8e43194aef4bd5cb",
            "402bd57a7b704ac5994565224e161d3e",
            "acf3d44fa71b499aa0109700bf0c6c03",
            "584aae6c8723436cb89b9f9cf71affd7",
            "d60a0d0d9b0541cd89b8d0a5aec23e13",
            "3021c35ed50d44718f02400af153b42d"
          ]
        },
        "id": "IFFU6ELRMpGL",
        "outputId": "4e9ded93-9467-4a74-859d-19418c1066b6"
      },
      "outputs": [
        {
          "data": {
            "application/vnd.jupyter.widget-view+json": {
              "model_id": "8a9edc9f00b3485a9c7e4c053dd18b84",
              "version_major": 2,
              "version_minor": 0
            },
            "text/plain": [
              "Map:   0%|          | 0/1000 [00:00<?, ? examples/s]"
            ]
          },
          "metadata": {},
          "output_type": "display_data"
        }
      ],
      "source": [
        "fn_kwargs = {\n",
        "    \"temperature\": 0.,\n",
        "    \"model\": \"gpt-3.5-turbo\",\n",
        "    \"system_prompt\": system_prompt,\n",
        "}\n",
        "\n",
        "summaries_dataset = summaries_dataset.map(rank_summaries, fn_kwargs=fn_kwargs, batched=False)"
      ]
    },
    {
      "cell_type": "code",
      "execution_count": 61,
      "metadata": {
        "colab": {
          "base_uri": "https://localhost:8080/"
        },
        "id": "Gyx35E9XKThV",
        "outputId": "d56676e6-382a-43f6-9ae8-38e02df5415a"
      },
      "outputs": [
        {
          "data": {
            "text/plain": [
              "{'prompt': 'SUBREDDIT: r/relationship_advice\\nTITLE: Should I [F/23] be weirded out that my boyfriend [M/30] has pictures of a girl I know on his phone?\\nPOST: We\\'ve been together over three years now, love each other, rarely fight and are generally quite happy.\\nThis morning I was uploading some photos from my camera to my blog, and when I hit the upload button instead of going straight to my SD card the window opened \"pics for phone\" (which is my boyfriend\\'s phone pictures file obv), I knew that file existed but I trust him so I don\\'t snoop, plus we have completely different taste in porn so it\\'s usually better if we avoid each other\\'s porn folders.\\nAs I was bringing the cursor over to the back button I noticed that the first image in the folder was a girl I went to school with in a bikini, we\\'re not friends so to speak but we knew each other, and my boyfriend knows we went to school together because I told him that when she sent him a friend request on facebook about a year ago, I\\'m pretty sure he just though she looked hot in the photo or something, but at the same time I\\'m a little weirded out that he has a photo of someone I kind of know on his phone, yet as far as I know no photos of his girlfriend (which up until this point I\\'d never really thought about or cared about, he sees me naked every day anyway).\\n\\nI\\'m thinking about asking him about it (I will tell him how I found it) and if maybe he could delete it because it\\'s making me feel weird, but I just want some clarification that I\\'m not being a psycho hose beast or anything by feeling creeped out by this.',\n",
              " 'chosen': \"TL;DR: I'm bisexual and I want to tell my boyfriend how this affects a hetero relationship. Do you think it is necessary? When are you guys forced to tell your boyfriend that that’s the right time?\",\n",
              " 'rejected': 'TL;DR: female in hetero relationship being bisexual, need to know what he needs to know before he is aware of this. how do you communicate with him?',\n",
              " 'prompt_tokens': 1062,\n",
              " 'completion_tokens': 12,\n",
              " 'total_tokens': 1074,\n",
              " 'is_random': False,\n",
              " 'error_msg': ''}"
            ]
          },
          "execution_count": 61,
          "metadata": {},
          "output_type": "execute_result"
        }
      ],
      "source": [
        "preference_dataset = summaries_dataset.remove_columns([\"summary_1\", \"summary_2\"])\n",
        "preference_dataset[1]"
      ]
    },
    {
      "cell_type": "code",
      "execution_count": 62,
      "metadata": {},
      "outputs": [
        {
          "name": "stdout",
          "output_type": "stream",
          "text": [
            "Total cost for prompt tokens: 1.315371\n",
            "Total cost for completion tokens: 0.020872\n",
            "Overall total cost: 1.336243\n",
            "Number of entries with 'is_random' = True: 136\n",
            "Percentage of entries with 'is_random' = True: 13.60%\n"
          ]
        }
      ],
      "source": [
        "# Constants\n",
        "COST_PER_PROMPT_TOKEN_1K = 0.0015\n",
        "COST_PER_COMPLETION_TOKEN_1K = 0.002\n",
        "\n",
        "# Sum up the total tokens\n",
        "total_prompt_tokens = sum(entry['prompt_tokens'] for entry in preference_dataset)\n",
        "total_completion_tokens = sum(entry['completion_tokens'] for entry in preference_dataset)\n",
        "\n",
        "# Calculate the cost\n",
        "prompt_cost = (total_prompt_tokens / 1000) * COST_PER_PROMPT_TOKEN_1K\n",
        "completion_cost = (total_completion_tokens / 1000) * COST_PER_COMPLETION_TOKEN_1K\n",
        "\n",
        "# Total cost\n",
        "total_cost = prompt_cost + completion_cost\n",
        "\n",
        "print(\"Total cost for prompt tokens:\", prompt_cost)\n",
        "print(\"Total cost for completion tokens:\", completion_cost)\n",
        "print(\"Overall total cost:\", total_cost)\n",
        "\n",
        "\n",
        "# Count the number of entries with 'is_random' = True\n",
        "count_is_random_true = sum(1 for entry in preference_dataset if entry['is_random'])\n",
        "\n",
        "# Total number of entries\n",
        "total_entries = len(preference_dataset)\n",
        "\n",
        "# Calculate the percentage\n",
        "percentage_is_random_true = (count_is_random_true / total_entries) * 100\n",
        "\n",
        "print(f\"Number of entries with 'is_random' = True: {count_is_random_true}\")\n",
        "print(f\"Percentage of entries with 'is_random' = True: {percentage_is_random_true:.2f}%\")\n"
      ]
    },
    {
      "cell_type": "code",
      "execution_count": 63,
      "metadata": {
        "id": "1E9ANqO-K5bI"
      },
      "outputs": [],
      "source": [
        "hf_token = getpass.getpass(\"Enter your HUGGINGFACE TOKEN: \")"
      ]
    },
    {
      "cell_type": "code",
      "execution_count": 64,
      "metadata": {
        "colab": {
          "base_uri": "https://localhost:8080/",
          "height": 145,
          "referenced_widgets": [
            "2a4f7824523044b09617d79b9a0dcf51",
            "fa56e3c3ec4247259d8260430b49eade",
            "8818680827214ddba8450f2696cdb0fc",
            "9d21131147164de69f631814a2ed3032",
            "e0254613a0aa4b8892f7e1da5b077e20",
            "4491f69bccfe40f59beafeda4feb8445",
            "7259ead0b3fc499082a9c0b4fcb88569",
            "96d398b3c05d464ba919b74b1f0056a2",
            "668a94bc9185409e8d9f4f8c20b690e9",
            "398b574cf42345af9650b1698161aaa1",
            "188a308179b24b60897507e10e481771",
            "ba3dddfc08cf42eea7de3ddeaff4858e",
            "b05a0e2efaf44de7896f416b53673def",
            "045b1830d57043e9ab0b79bfa2a2e371",
            "0b7bc84a081d40d5bd214626b524d480",
            "4d3c61bfb83746719ee26c2b9730f6ff",
            "602674d56b8049738a087177aebacdbc",
            "7740b4432f464b1da7a448a0383ec229",
            "c8e40528d29f4097b87efe3481fff365",
            "b6cc2971db2f454494c42f5333791c1b",
            "674c85068ced461c99b744f001116d27",
            "ff13923d3e7349d5b1b2687574d25b41",
            "b8eff4e600c84093a0ae952f4dca5228",
            "4e1bbeb58d924dc5af72211fbd7004c7",
            "dc78aac669064b819adea93dd8f6e5f3",
            "29f24d35d3c04589bbdc554e372c1592",
            "860e9a8ddeb248a890182f3193069e1b",
            "0e933690bbcc4cfb9375da030dd1d37e",
            "6afb0a65f36d49ccb0125bc5e121ac81",
            "77dbeb3b945d49f29bedbef5d846682b",
            "6c23d56eca524a48ba93e8737501fabc",
            "8c186e63be8b4bb996076278e6a4e406",
            "13a88dec063f4a85bd4b9a7dc5cad372",
            "a99121530a5c45f4a5a7d6d7ca3784bc",
            "9f91fa640d34443290f035ca8edea5b0",
            "bc424c7b01fc4ad3abf6b20e7b861e5c",
            "e37cd2d92bd64f0e975449cec0dbfe98",
            "e7ad6c98c70c4f5ea28ac9ba97a8f09d",
            "74204e8918f343ef8f7f4111b4b090a6",
            "949d978c4d9443119639bc1f6637b238",
            "abaf92664b31415f8cf821df8dd302cc",
            "fad62b51e97d4b46bf95b55c64439c38",
            "27aafce97d604423861d3b04171df2a9",
            "fac5cfae31674b8da333d05fcaa649e6"
          ]
        },
        "id": "AWYhN8CIjNkJ",
        "outputId": "b106c195-8b1b-470c-8a73-e7a7bb42be2b"
      },
      "outputs": [
        {
          "data": {
            "application/vnd.jupyter.widget-view+json": {
              "model_id": "b430cb1e22f44f7db2a7cecad8fb53fa",
              "version_major": 2,
              "version_minor": 0
            },
            "text/plain": [
              "Pushing dataset shards to the dataset hub:   0%|          | 0/1 [00:00<?, ?it/s]"
            ]
          },
          "metadata": {},
          "output_type": "display_data"
        },
        {
          "data": {
            "application/vnd.jupyter.widget-view+json": {
              "model_id": "4f26bbe61d5441d39104c3d4246f66af",
              "version_major": 2,
              "version_minor": 0
            },
            "text/plain": [
              "Creating parquet from Arrow format:   0%|          | 0/1 [00:00<?, ?ba/s]"
            ]
          },
          "metadata": {},
          "output_type": "display_data"
        },
        {
          "data": {
            "application/vnd.jupyter.widget-view+json": {
              "model_id": "ca228e46e807483a90ba56b87191e514",
              "version_major": 2,
              "version_minor": 0
            },
            "text/plain": [
              "Upload 1 LFS files:   0%|          | 0/1 [00:00<?, ?it/s]"
            ]
          },
          "metadata": {},
          "output_type": "display_data"
        },
        {
          "data": {
            "application/vnd.jupyter.widget-view+json": {
              "model_id": "d175cebfcea346d78b17bb90c1d9e802",
              "version_major": 2,
              "version_minor": 0
            },
            "text/plain": [
              "Deleting unused files from dataset repository:   0%|          | 0/1 [00:00<?, ?it/s]"
            ]
          },
          "metadata": {},
          "output_type": "display_data"
        },
        {
          "data": {
            "application/vnd.jupyter.widget-view+json": {
              "model_id": "da62115d4f094dcb813d89d9fb73db78",
              "version_major": 2,
              "version_minor": 0
            },
            "text/plain": [
              "Downloading metadata:   0%|          | 0.00/274 [00:00<?, ?B/s]"
            ]
          },
          "metadata": {},
          "output_type": "display_data"
        },
        {
          "name": "stderr",
          "output_type": "stream",
          "text": [
            "Updating downloaded metadata with the new split.\n"
          ]
        }
      ],
      "source": [
        "preference_dataset.push_to_hub('JuanKO/RLAIF_summarization_preference_gpt35', token=hf_token)"
      ]
    },
    {
      "cell_type": "code",
      "execution_count": 65,
      "metadata": {},
      "outputs": [
        {
          "data": {
            "text/plain": [
              "{'prompt': 'SUBREDDIT: r/AskReddit\\nTITLE: Today i had a table call me a god-hating queer loving peice of trash, reddit what\\'s the worst customer you\\'ve dealt with?\\nPOST: I was in a section with another waiter who happens to be gay, when i came up to the table i was greeted with: \"wait, you ain\\'t queer too are ya? That faggy one came by and i told him i need a new waiter\" Shocked and apalled i answered as i polite as i could: \"No sir, I am not gay but i do find it appalling the amount of hatred you have for someones entire existence, i think you\\'re going to need another waiter because i can\\'t take care of you\" He then proceeded to call me a \"queer loving god-hating piece of trash\" Thank god he left after my manager talked to him and asked him to treat his employees with more respect or he wouldn\\'t be served. On the plus side the table next to him overheard the entire thing and gave me a $20 tip and told me i handled such an awful situation \"eloquently\"',\n",
              " 'summary_1': 'TL;DR: Is bisexuality important to my bf? When do you think it is appropriate to tell him.',\n",
              " 'summary_2': 'TL;DR: I am in a hetero relationship and the man is bisexual. Is this >something that he needs to know? Is this really something that is important? When do you think is the right time?',\n",
              " 'chosen': 'TL;DR: I am in a hetero relationship and the man is bisexual. Is this >something that he needs to know? Is this really something that is important? When do you think is the right time?',\n",
              " 'rejected': 'TL;DR: Is bisexuality important to my bf? When do you think it is appropriate to tell him.',\n",
              " 'prompt_tokens': 924,\n",
              " 'completion_tokens': 12,\n",
              " 'total_tokens': 936,\n",
              " 'is_random': False,\n",
              " 'error_msg': ''}"
            ]
          },
          "execution_count": 65,
          "metadata": {},
          "output_type": "execute_result"
        }
      ],
      "source": [
        "summaries_dataset[0]"
      ]
    },
    {
      "cell_type": "code",
      "execution_count": null,
      "metadata": {},
      "outputs": [],
      "source": []
    }
  ],
  "metadata": {
    "accelerator": "GPU",
    "colab": {
      "authorship_tag": "ABX9TyPIs4aWdHXXH5lWHLrBR6Hp",
      "gpuType": "A100",
      "include_colab_link": true,
      "machine_shape": "hm",
      "provenance": []
    },
    "kernelspec": {
      "display_name": "Python 3",
      "name": "python3"
    },
    "language_info": {
      "codemirror_mode": {
        "name": "ipython",
        "version": 3
      },
      "file_extension": ".py",
      "mimetype": "text/x-python",
      "name": "python",
      "nbconvert_exporter": "python",
      "pygments_lexer": "ipython3",
      "version": "3.10.10"
    },
    "widgets": {
      "application/vnd.jupyter.widget-state+json": {
        "045b1830d57043e9ab0b79bfa2a2e371": {
          "model_module": "@jupyter-widgets/controls",
          "model_module_version": "1.5.0",
          "model_name": "FloatProgressModel",
          "state": {
            "_dom_classes": [],
            "_model_module": "@jupyter-widgets/controls",
            "_model_module_version": "1.5.0",
            "_model_name": "FloatProgressModel",
            "_view_count": null,
            "_view_module": "@jupyter-widgets/controls",
            "_view_module_version": "1.5.0",
            "_view_name": "ProgressView",
            "bar_style": "success",
            "description": "",
            "description_tooltip": null,
            "layout": "IPY_MODEL_c8e40528d29f4097b87efe3481fff365",
            "max": 1,
            "min": 0,
            "orientation": "horizontal",
            "style": "IPY_MODEL_b6cc2971db2f454494c42f5333791c1b",
            "value": 1
          }
        },
        "0b7bc84a081d40d5bd214626b524d480": {
          "model_module": "@jupyter-widgets/controls",
          "model_module_version": "1.5.0",
          "model_name": "HTMLModel",
          "state": {
            "_dom_classes": [],
            "_model_module": "@jupyter-widgets/controls",
            "_model_module_version": "1.5.0",
            "_model_name": "HTMLModel",
            "_view_count": null,
            "_view_module": "@jupyter-widgets/controls",
            "_view_module_version": "1.5.0",
            "_view_name": "HTMLView",
            "description": "",
            "description_tooltip": null,
            "layout": "IPY_MODEL_674c85068ced461c99b744f001116d27",
            "placeholder": "​",
            "style": "IPY_MODEL_ff13923d3e7349d5b1b2687574d25b41",
            "value": " 1/1 [00:00&lt;00:00, 59.44ba/s]"
          }
        },
        "0e933690bbcc4cfb9375da030dd1d37e": {
          "model_module": "@jupyter-widgets/base",
          "model_module_version": "1.2.0",
          "model_name": "LayoutModel",
          "state": {
            "_model_module": "@jupyter-widgets/base",
            "_model_module_version": "1.2.0",
            "_model_name": "LayoutModel",
            "_view_count": null,
            "_view_module": "@jupyter-widgets/base",
            "_view_module_version": "1.2.0",
            "_view_name": "LayoutView",
            "align_content": null,
            "align_items": null,
            "align_self": null,
            "border": null,
            "bottom": null,
            "display": null,
            "flex": null,
            "flex_flow": null,
            "grid_area": null,
            "grid_auto_columns": null,
            "grid_auto_flow": null,
            "grid_auto_rows": null,
            "grid_column": null,
            "grid_gap": null,
            "grid_row": null,
            "grid_template_areas": null,
            "grid_template_columns": null,
            "grid_template_rows": null,
            "height": null,
            "justify_content": null,
            "justify_items": null,
            "left": null,
            "margin": null,
            "max_height": null,
            "max_width": null,
            "min_height": null,
            "min_width": null,
            "object_fit": null,
            "object_position": null,
            "order": null,
            "overflow": null,
            "overflow_x": null,
            "overflow_y": null,
            "padding": null,
            "right": null,
            "top": null,
            "visibility": null,
            "width": null
          }
        },
        "13a88dec063f4a85bd4b9a7dc5cad372": {
          "model_module": "@jupyter-widgets/controls",
          "model_module_version": "1.5.0",
          "model_name": "DescriptionStyleModel",
          "state": {
            "_model_module": "@jupyter-widgets/controls",
            "_model_module_version": "1.5.0",
            "_model_name": "DescriptionStyleModel",
            "_view_count": null,
            "_view_module": "@jupyter-widgets/base",
            "_view_module_version": "1.2.0",
            "_view_name": "StyleView",
            "description_width": ""
          }
        },
        "188a308179b24b60897507e10e481771": {
          "model_module": "@jupyter-widgets/controls",
          "model_module_version": "1.5.0",
          "model_name": "DescriptionStyleModel",
          "state": {
            "_model_module": "@jupyter-widgets/controls",
            "_model_module_version": "1.5.0",
            "_model_name": "DescriptionStyleModel",
            "_view_count": null,
            "_view_module": "@jupyter-widgets/base",
            "_view_module_version": "1.2.0",
            "_view_name": "StyleView",
            "description_width": ""
          }
        },
        "22595d69ea064f3fbf380ff2e700c38c": {
          "model_module": "@jupyter-widgets/controls",
          "model_module_version": "1.5.0",
          "model_name": "HBoxModel",
          "state": {
            "_dom_classes": [],
            "_model_module": "@jupyter-widgets/controls",
            "_model_module_version": "1.5.0",
            "_model_name": "HBoxModel",
            "_view_count": null,
            "_view_module": "@jupyter-widgets/controls",
            "_view_module_version": "1.5.0",
            "_view_name": "HBoxView",
            "box_style": "",
            "children": [
              "IPY_MODEL_3c566a65ce054fdaba98ac6ac72d4f24",
              "IPY_MODEL_dce3d229802043089dc1e9db339b0f56",
              "IPY_MODEL_791b132ec2964410a07ddb69b9232f0b"
            ],
            "layout": "IPY_MODEL_a347256d40ee4908869c0c6abebd8e82"
          }
        },
        "27aafce97d604423861d3b04171df2a9": {
          "model_module": "@jupyter-widgets/base",
          "model_module_version": "1.2.0",
          "model_name": "LayoutModel",
          "state": {
            "_model_module": "@jupyter-widgets/base",
            "_model_module_version": "1.2.0",
            "_model_name": "LayoutModel",
            "_view_count": null,
            "_view_module": "@jupyter-widgets/base",
            "_view_module_version": "1.2.0",
            "_view_name": "LayoutView",
            "align_content": null,
            "align_items": null,
            "align_self": null,
            "border": null,
            "bottom": null,
            "display": null,
            "flex": null,
            "flex_flow": null,
            "grid_area": null,
            "grid_auto_columns": null,
            "grid_auto_flow": null,
            "grid_auto_rows": null,
            "grid_column": null,
            "grid_gap": null,
            "grid_row": null,
            "grid_template_areas": null,
            "grid_template_columns": null,
            "grid_template_rows": null,
            "height": null,
            "justify_content": null,
            "justify_items": null,
            "left": null,
            "margin": null,
            "max_height": null,
            "max_width": null,
            "min_height": null,
            "min_width": null,
            "object_fit": null,
            "object_position": null,
            "order": null,
            "overflow": null,
            "overflow_x": null,
            "overflow_y": null,
            "padding": null,
            "right": null,
            "top": null,
            "visibility": null,
            "width": null
          }
        },
        "29f24d35d3c04589bbdc554e372c1592": {
          "model_module": "@jupyter-widgets/controls",
          "model_module_version": "1.5.0",
          "model_name": "HTMLModel",
          "state": {
            "_dom_classes": [],
            "_model_module": "@jupyter-widgets/controls",
            "_model_module_version": "1.5.0",
            "_model_name": "HTMLModel",
            "_view_count": null,
            "_view_module": "@jupyter-widgets/controls",
            "_view_module_version": "1.5.0",
            "_view_name": "HTMLView",
            "description": "",
            "description_tooltip": null,
            "layout": "IPY_MODEL_8c186e63be8b4bb996076278e6a4e406",
            "placeholder": "​",
            "style": "IPY_MODEL_13a88dec063f4a85bd4b9a7dc5cad372",
            "value": " 1/1 [00:00&lt;00:00,  2.69it/s]"
          }
        },
        "2a4f7824523044b09617d79b9a0dcf51": {
          "model_module": "@jupyter-widgets/controls",
          "model_module_version": "1.5.0",
          "model_name": "HBoxModel",
          "state": {
            "_dom_classes": [],
            "_model_module": "@jupyter-widgets/controls",
            "_model_module_version": "1.5.0",
            "_model_name": "HBoxModel",
            "_view_count": null,
            "_view_module": "@jupyter-widgets/controls",
            "_view_module_version": "1.5.0",
            "_view_name": "HBoxView",
            "box_style": "",
            "children": [
              "IPY_MODEL_fa56e3c3ec4247259d8260430b49eade",
              "IPY_MODEL_8818680827214ddba8450f2696cdb0fc",
              "IPY_MODEL_9d21131147164de69f631814a2ed3032"
            ],
            "layout": "IPY_MODEL_e0254613a0aa4b8892f7e1da5b077e20"
          }
        },
        "2e57acd6d9f34c4f8e43194aef4bd5cb": {
          "model_module": "@jupyter-widgets/base",
          "model_module_version": "1.2.0",
          "model_name": "LayoutModel",
          "state": {
            "_model_module": "@jupyter-widgets/base",
            "_model_module_version": "1.2.0",
            "_model_name": "LayoutModel",
            "_view_count": null,
            "_view_module": "@jupyter-widgets/base",
            "_view_module_version": "1.2.0",
            "_view_name": "LayoutView",
            "align_content": null,
            "align_items": null,
            "align_self": null,
            "border": null,
            "bottom": null,
            "display": null,
            "flex": null,
            "flex_flow": null,
            "grid_area": null,
            "grid_auto_columns": null,
            "grid_auto_flow": null,
            "grid_auto_rows": null,
            "grid_column": null,
            "grid_gap": null,
            "grid_row": null,
            "grid_template_areas": null,
            "grid_template_columns": null,
            "grid_template_rows": null,
            "height": null,
            "justify_content": null,
            "justify_items": null,
            "left": null,
            "margin": null,
            "max_height": null,
            "max_width": null,
            "min_height": null,
            "min_width": null,
            "object_fit": null,
            "object_position": null,
            "order": null,
            "overflow": null,
            "overflow_x": null,
            "overflow_y": null,
            "padding": null,
            "right": null,
            "top": null,
            "visibility": null,
            "width": null
          }
        },
        "3021c35ed50d44718f02400af153b42d": {
          "model_module": "@jupyter-widgets/controls",
          "model_module_version": "1.5.0",
          "model_name": "DescriptionStyleModel",
          "state": {
            "_model_module": "@jupyter-widgets/controls",
            "_model_module_version": "1.5.0",
            "_model_name": "DescriptionStyleModel",
            "_view_count": null,
            "_view_module": "@jupyter-widgets/base",
            "_view_module_version": "1.2.0",
            "_view_name": "StyleView",
            "description_width": ""
          }
        },
        "398b574cf42345af9650b1698161aaa1": {
          "model_module": "@jupyter-widgets/base",
          "model_module_version": "1.2.0",
          "model_name": "LayoutModel",
          "state": {
            "_model_module": "@jupyter-widgets/base",
            "_model_module_version": "1.2.0",
            "_model_name": "LayoutModel",
            "_view_count": null,
            "_view_module": "@jupyter-widgets/base",
            "_view_module_version": "1.2.0",
            "_view_name": "LayoutView",
            "align_content": null,
            "align_items": null,
            "align_self": null,
            "border": null,
            "bottom": null,
            "display": null,
            "flex": null,
            "flex_flow": null,
            "grid_area": null,
            "grid_auto_columns": null,
            "grid_auto_flow": null,
            "grid_auto_rows": null,
            "grid_column": null,
            "grid_gap": null,
            "grid_row": null,
            "grid_template_areas": null,
            "grid_template_columns": null,
            "grid_template_rows": null,
            "height": null,
            "justify_content": null,
            "justify_items": null,
            "left": null,
            "margin": null,
            "max_height": null,
            "max_width": null,
            "min_height": null,
            "min_width": null,
            "object_fit": null,
            "object_position": null,
            "order": null,
            "overflow": null,
            "overflow_x": null,
            "overflow_y": null,
            "padding": null,
            "right": null,
            "top": null,
            "visibility": null,
            "width": null
          }
        },
        "3c566a65ce054fdaba98ac6ac72d4f24": {
          "model_module": "@jupyter-widgets/controls",
          "model_module_version": "1.5.0",
          "model_name": "HTMLModel",
          "state": {
            "_dom_classes": [],
            "_model_module": "@jupyter-widgets/controls",
            "_model_module_version": "1.5.0",
            "_model_name": "HTMLModel",
            "_view_count": null,
            "_view_module": "@jupyter-widgets/controls",
            "_view_module_version": "1.5.0",
            "_view_name": "HTMLView",
            "description": "",
            "description_tooltip": null,
            "layout": "IPY_MODEL_2e57acd6d9f34c4f8e43194aef4bd5cb",
            "placeholder": "​",
            "style": "IPY_MODEL_402bd57a7b704ac5994565224e161d3e",
            "value": "Map: 100%"
          }
        },
        "402bd57a7b704ac5994565224e161d3e": {
          "model_module": "@jupyter-widgets/controls",
          "model_module_version": "1.5.0",
          "model_name": "DescriptionStyleModel",
          "state": {
            "_model_module": "@jupyter-widgets/controls",
            "_model_module_version": "1.5.0",
            "_model_name": "DescriptionStyleModel",
            "_view_count": null,
            "_view_module": "@jupyter-widgets/base",
            "_view_module_version": "1.2.0",
            "_view_name": "StyleView",
            "description_width": ""
          }
        },
        "4491f69bccfe40f59beafeda4feb8445": {
          "model_module": "@jupyter-widgets/base",
          "model_module_version": "1.2.0",
          "model_name": "LayoutModel",
          "state": {
            "_model_module": "@jupyter-widgets/base",
            "_model_module_version": "1.2.0",
            "_model_name": "LayoutModel",
            "_view_count": null,
            "_view_module": "@jupyter-widgets/base",
            "_view_module_version": "1.2.0",
            "_view_name": "LayoutView",
            "align_content": null,
            "align_items": null,
            "align_self": null,
            "border": null,
            "bottom": null,
            "display": null,
            "flex": null,
            "flex_flow": null,
            "grid_area": null,
            "grid_auto_columns": null,
            "grid_auto_flow": null,
            "grid_auto_rows": null,
            "grid_column": null,
            "grid_gap": null,
            "grid_row": null,
            "grid_template_areas": null,
            "grid_template_columns": null,
            "grid_template_rows": null,
            "height": null,
            "justify_content": null,
            "justify_items": null,
            "left": null,
            "margin": null,
            "max_height": null,
            "max_width": null,
            "min_height": null,
            "min_width": null,
            "object_fit": null,
            "object_position": null,
            "order": null,
            "overflow": null,
            "overflow_x": null,
            "overflow_y": null,
            "padding": null,
            "right": null,
            "top": null,
            "visibility": null,
            "width": null
          }
        },
        "4d3c61bfb83746719ee26c2b9730f6ff": {
          "model_module": "@jupyter-widgets/base",
          "model_module_version": "1.2.0",
          "model_name": "LayoutModel",
          "state": {
            "_model_module": "@jupyter-widgets/base",
            "_model_module_version": "1.2.0",
            "_model_name": "LayoutModel",
            "_view_count": null,
            "_view_module": "@jupyter-widgets/base",
            "_view_module_version": "1.2.0",
            "_view_name": "LayoutView",
            "align_content": null,
            "align_items": null,
            "align_self": null,
            "border": null,
            "bottom": null,
            "display": null,
            "flex": null,
            "flex_flow": null,
            "grid_area": null,
            "grid_auto_columns": null,
            "grid_auto_flow": null,
            "grid_auto_rows": null,
            "grid_column": null,
            "grid_gap": null,
            "grid_row": null,
            "grid_template_areas": null,
            "grid_template_columns": null,
            "grid_template_rows": null,
            "height": null,
            "justify_content": null,
            "justify_items": null,
            "left": null,
            "margin": null,
            "max_height": null,
            "max_width": null,
            "min_height": null,
            "min_width": null,
            "object_fit": null,
            "object_position": null,
            "order": null,
            "overflow": null,
            "overflow_x": null,
            "overflow_y": null,
            "padding": null,
            "right": null,
            "top": null,
            "visibility": null,
            "width": null
          }
        },
        "4e1bbeb58d924dc5af72211fbd7004c7": {
          "model_module": "@jupyter-widgets/controls",
          "model_module_version": "1.5.0",
          "model_name": "HTMLModel",
          "state": {
            "_dom_classes": [],
            "_model_module": "@jupyter-widgets/controls",
            "_model_module_version": "1.5.0",
            "_model_name": "HTMLModel",
            "_view_count": null,
            "_view_module": "@jupyter-widgets/controls",
            "_view_module_version": "1.5.0",
            "_view_name": "HTMLView",
            "description": "",
            "description_tooltip": null,
            "layout": "IPY_MODEL_0e933690bbcc4cfb9375da030dd1d37e",
            "placeholder": "​",
            "style": "IPY_MODEL_6afb0a65f36d49ccb0125bc5e121ac81",
            "value": "Deleting unused files from dataset repository: 100%"
          }
        },
        "584aae6c8723436cb89b9f9cf71affd7": {
          "model_module": "@jupyter-widgets/controls",
          "model_module_version": "1.5.0",
          "model_name": "ProgressStyleModel",
          "state": {
            "_model_module": "@jupyter-widgets/controls",
            "_model_module_version": "1.5.0",
            "_model_name": "ProgressStyleModel",
            "_view_count": null,
            "_view_module": "@jupyter-widgets/base",
            "_view_module_version": "1.2.0",
            "_view_name": "StyleView",
            "bar_color": null,
            "description_width": ""
          }
        },
        "602674d56b8049738a087177aebacdbc": {
          "model_module": "@jupyter-widgets/base",
          "model_module_version": "1.2.0",
          "model_name": "LayoutModel",
          "state": {
            "_model_module": "@jupyter-widgets/base",
            "_model_module_version": "1.2.0",
            "_model_name": "LayoutModel",
            "_view_count": null,
            "_view_module": "@jupyter-widgets/base",
            "_view_module_version": "1.2.0",
            "_view_name": "LayoutView",
            "align_content": null,
            "align_items": null,
            "align_self": null,
            "border": null,
            "bottom": null,
            "display": null,
            "flex": null,
            "flex_flow": null,
            "grid_area": null,
            "grid_auto_columns": null,
            "grid_auto_flow": null,
            "grid_auto_rows": null,
            "grid_column": null,
            "grid_gap": null,
            "grid_row": null,
            "grid_template_areas": null,
            "grid_template_columns": null,
            "grid_template_rows": null,
            "height": null,
            "justify_content": null,
            "justify_items": null,
            "left": null,
            "margin": null,
            "max_height": null,
            "max_width": null,
            "min_height": null,
            "min_width": null,
            "object_fit": null,
            "object_position": null,
            "order": null,
            "overflow": null,
            "overflow_x": null,
            "overflow_y": null,
            "padding": null,
            "right": null,
            "top": null,
            "visibility": null,
            "width": null
          }
        },
        "668a94bc9185409e8d9f4f8c20b690e9": {
          "model_module": "@jupyter-widgets/controls",
          "model_module_version": "1.5.0",
          "model_name": "ProgressStyleModel",
          "state": {
            "_model_module": "@jupyter-widgets/controls",
            "_model_module_version": "1.5.0",
            "_model_name": "ProgressStyleModel",
            "_view_count": null,
            "_view_module": "@jupyter-widgets/base",
            "_view_module_version": "1.2.0",
            "_view_name": "StyleView",
            "bar_color": null,
            "description_width": ""
          }
        },
        "674c85068ced461c99b744f001116d27": {
          "model_module": "@jupyter-widgets/base",
          "model_module_version": "1.2.0",
          "model_name": "LayoutModel",
          "state": {
            "_model_module": "@jupyter-widgets/base",
            "_model_module_version": "1.2.0",
            "_model_name": "LayoutModel",
            "_view_count": null,
            "_view_module": "@jupyter-widgets/base",
            "_view_module_version": "1.2.0",
            "_view_name": "LayoutView",
            "align_content": null,
            "align_items": null,
            "align_self": null,
            "border": null,
            "bottom": null,
            "display": null,
            "flex": null,
            "flex_flow": null,
            "grid_area": null,
            "grid_auto_columns": null,
            "grid_auto_flow": null,
            "grid_auto_rows": null,
            "grid_column": null,
            "grid_gap": null,
            "grid_row": null,
            "grid_template_areas": null,
            "grid_template_columns": null,
            "grid_template_rows": null,
            "height": null,
            "justify_content": null,
            "justify_items": null,
            "left": null,
            "margin": null,
            "max_height": null,
            "max_width": null,
            "min_height": null,
            "min_width": null,
            "object_fit": null,
            "object_position": null,
            "order": null,
            "overflow": null,
            "overflow_x": null,
            "overflow_y": null,
            "padding": null,
            "right": null,
            "top": null,
            "visibility": null,
            "width": null
          }
        },
        "6afb0a65f36d49ccb0125bc5e121ac81": {
          "model_module": "@jupyter-widgets/controls",
          "model_module_version": "1.5.0",
          "model_name": "DescriptionStyleModel",
          "state": {
            "_model_module": "@jupyter-widgets/controls",
            "_model_module_version": "1.5.0",
            "_model_name": "DescriptionStyleModel",
            "_view_count": null,
            "_view_module": "@jupyter-widgets/base",
            "_view_module_version": "1.2.0",
            "_view_name": "StyleView",
            "description_width": ""
          }
        },
        "6c23d56eca524a48ba93e8737501fabc": {
          "model_module": "@jupyter-widgets/controls",
          "model_module_version": "1.5.0",
          "model_name": "ProgressStyleModel",
          "state": {
            "_model_module": "@jupyter-widgets/controls",
            "_model_module_version": "1.5.0",
            "_model_name": "ProgressStyleModel",
            "_view_count": null,
            "_view_module": "@jupyter-widgets/base",
            "_view_module_version": "1.2.0",
            "_view_name": "StyleView",
            "bar_color": null,
            "description_width": ""
          }
        },
        "7259ead0b3fc499082a9c0b4fcb88569": {
          "model_module": "@jupyter-widgets/controls",
          "model_module_version": "1.5.0",
          "model_name": "DescriptionStyleModel",
          "state": {
            "_model_module": "@jupyter-widgets/controls",
            "_model_module_version": "1.5.0",
            "_model_name": "DescriptionStyleModel",
            "_view_count": null,
            "_view_module": "@jupyter-widgets/base",
            "_view_module_version": "1.2.0",
            "_view_name": "StyleView",
            "description_width": ""
          }
        },
        "74204e8918f343ef8f7f4111b4b090a6": {
          "model_module": "@jupyter-widgets/base",
          "model_module_version": "1.2.0",
          "model_name": "LayoutModel",
          "state": {
            "_model_module": "@jupyter-widgets/base",
            "_model_module_version": "1.2.0",
            "_model_name": "LayoutModel",
            "_view_count": null,
            "_view_module": "@jupyter-widgets/base",
            "_view_module_version": "1.2.0",
            "_view_name": "LayoutView",
            "align_content": null,
            "align_items": null,
            "align_self": null,
            "border": null,
            "bottom": null,
            "display": null,
            "flex": null,
            "flex_flow": null,
            "grid_area": null,
            "grid_auto_columns": null,
            "grid_auto_flow": null,
            "grid_auto_rows": null,
            "grid_column": null,
            "grid_gap": null,
            "grid_row": null,
            "grid_template_areas": null,
            "grid_template_columns": null,
            "grid_template_rows": null,
            "height": null,
            "justify_content": null,
            "justify_items": null,
            "left": null,
            "margin": null,
            "max_height": null,
            "max_width": null,
            "min_height": null,
            "min_width": null,
            "object_fit": null,
            "object_position": null,
            "order": null,
            "overflow": null,
            "overflow_x": null,
            "overflow_y": null,
            "padding": null,
            "right": null,
            "top": null,
            "visibility": null,
            "width": null
          }
        },
        "7740b4432f464b1da7a448a0383ec229": {
          "model_module": "@jupyter-widgets/controls",
          "model_module_version": "1.5.0",
          "model_name": "DescriptionStyleModel",
          "state": {
            "_model_module": "@jupyter-widgets/controls",
            "_model_module_version": "1.5.0",
            "_model_name": "DescriptionStyleModel",
            "_view_count": null,
            "_view_module": "@jupyter-widgets/base",
            "_view_module_version": "1.2.0",
            "_view_name": "StyleView",
            "description_width": ""
          }
        },
        "77dbeb3b945d49f29bedbef5d846682b": {
          "model_module": "@jupyter-widgets/base",
          "model_module_version": "1.2.0",
          "model_name": "LayoutModel",
          "state": {
            "_model_module": "@jupyter-widgets/base",
            "_model_module_version": "1.2.0",
            "_model_name": "LayoutModel",
            "_view_count": null,
            "_view_module": "@jupyter-widgets/base",
            "_view_module_version": "1.2.0",
            "_view_name": "LayoutView",
            "align_content": null,
            "align_items": null,
            "align_self": null,
            "border": null,
            "bottom": null,
            "display": null,
            "flex": null,
            "flex_flow": null,
            "grid_area": null,
            "grid_auto_columns": null,
            "grid_auto_flow": null,
            "grid_auto_rows": null,
            "grid_column": null,
            "grid_gap": null,
            "grid_row": null,
            "grid_template_areas": null,
            "grid_template_columns": null,
            "grid_template_rows": null,
            "height": null,
            "justify_content": null,
            "justify_items": null,
            "left": null,
            "margin": null,
            "max_height": null,
            "max_width": null,
            "min_height": null,
            "min_width": null,
            "object_fit": null,
            "object_position": null,
            "order": null,
            "overflow": null,
            "overflow_x": null,
            "overflow_y": null,
            "padding": null,
            "right": null,
            "top": null,
            "visibility": null,
            "width": null
          }
        },
        "791b132ec2964410a07ddb69b9232f0b": {
          "model_module": "@jupyter-widgets/controls",
          "model_module_version": "1.5.0",
          "model_name": "HTMLModel",
          "state": {
            "_dom_classes": [],
            "_model_module": "@jupyter-widgets/controls",
            "_model_module_version": "1.5.0",
            "_model_name": "HTMLModel",
            "_view_count": null,
            "_view_module": "@jupyter-widgets/controls",
            "_view_module_version": "1.5.0",
            "_view_name": "HTMLView",
            "description": "",
            "description_tooltip": null,
            "layout": "IPY_MODEL_d60a0d0d9b0541cd89b8d0a5aec23e13",
            "placeholder": "​",
            "style": "IPY_MODEL_3021c35ed50d44718f02400af153b42d",
            "value": " 100/100 [17:42&lt;00:00,  7.61s/ examples]"
          }
        },
        "860e9a8ddeb248a890182f3193069e1b": {
          "model_module": "@jupyter-widgets/base",
          "model_module_version": "1.2.0",
          "model_name": "LayoutModel",
          "state": {
            "_model_module": "@jupyter-widgets/base",
            "_model_module_version": "1.2.0",
            "_model_name": "LayoutModel",
            "_view_count": null,
            "_view_module": "@jupyter-widgets/base",
            "_view_module_version": "1.2.0",
            "_view_name": "LayoutView",
            "align_content": null,
            "align_items": null,
            "align_self": null,
            "border": null,
            "bottom": null,
            "display": null,
            "flex": null,
            "flex_flow": null,
            "grid_area": null,
            "grid_auto_columns": null,
            "grid_auto_flow": null,
            "grid_auto_rows": null,
            "grid_column": null,
            "grid_gap": null,
            "grid_row": null,
            "grid_template_areas": null,
            "grid_template_columns": null,
            "grid_template_rows": null,
            "height": null,
            "justify_content": null,
            "justify_items": null,
            "left": null,
            "margin": null,
            "max_height": null,
            "max_width": null,
            "min_height": null,
            "min_width": null,
            "object_fit": null,
            "object_position": null,
            "order": null,
            "overflow": null,
            "overflow_x": null,
            "overflow_y": null,
            "padding": null,
            "right": null,
            "top": null,
            "visibility": null,
            "width": null
          }
        },
        "8818680827214ddba8450f2696cdb0fc": {
          "model_module": "@jupyter-widgets/controls",
          "model_module_version": "1.5.0",
          "model_name": "FloatProgressModel",
          "state": {
            "_dom_classes": [],
            "_model_module": "@jupyter-widgets/controls",
            "_model_module_version": "1.5.0",
            "_model_name": "FloatProgressModel",
            "_view_count": null,
            "_view_module": "@jupyter-widgets/controls",
            "_view_module_version": "1.5.0",
            "_view_name": "ProgressView",
            "bar_style": "success",
            "description": "",
            "description_tooltip": null,
            "layout": "IPY_MODEL_96d398b3c05d464ba919b74b1f0056a2",
            "max": 1,
            "min": 0,
            "orientation": "horizontal",
            "style": "IPY_MODEL_668a94bc9185409e8d9f4f8c20b690e9",
            "value": 1
          }
        },
        "8c186e63be8b4bb996076278e6a4e406": {
          "model_module": "@jupyter-widgets/base",
          "model_module_version": "1.2.0",
          "model_name": "LayoutModel",
          "state": {
            "_model_module": "@jupyter-widgets/base",
            "_model_module_version": "1.2.0",
            "_model_name": "LayoutModel",
            "_view_count": null,
            "_view_module": "@jupyter-widgets/base",
            "_view_module_version": "1.2.0",
            "_view_name": "LayoutView",
            "align_content": null,
            "align_items": null,
            "align_self": null,
            "border": null,
            "bottom": null,
            "display": null,
            "flex": null,
            "flex_flow": null,
            "grid_area": null,
            "grid_auto_columns": null,
            "grid_auto_flow": null,
            "grid_auto_rows": null,
            "grid_column": null,
            "grid_gap": null,
            "grid_row": null,
            "grid_template_areas": null,
            "grid_template_columns": null,
            "grid_template_rows": null,
            "height": null,
            "justify_content": null,
            "justify_items": null,
            "left": null,
            "margin": null,
            "max_height": null,
            "max_width": null,
            "min_height": null,
            "min_width": null,
            "object_fit": null,
            "object_position": null,
            "order": null,
            "overflow": null,
            "overflow_x": null,
            "overflow_y": null,
            "padding": null,
            "right": null,
            "top": null,
            "visibility": null,
            "width": null
          }
        },
        "949d978c4d9443119639bc1f6637b238": {
          "model_module": "@jupyter-widgets/controls",
          "model_module_version": "1.5.0",
          "model_name": "DescriptionStyleModel",
          "state": {
            "_model_module": "@jupyter-widgets/controls",
            "_model_module_version": "1.5.0",
            "_model_name": "DescriptionStyleModel",
            "_view_count": null,
            "_view_module": "@jupyter-widgets/base",
            "_view_module_version": "1.2.0",
            "_view_name": "StyleView",
            "description_width": ""
          }
        },
        "96d398b3c05d464ba919b74b1f0056a2": {
          "model_module": "@jupyter-widgets/base",
          "model_module_version": "1.2.0",
          "model_name": "LayoutModel",
          "state": {
            "_model_module": "@jupyter-widgets/base",
            "_model_module_version": "1.2.0",
            "_model_name": "LayoutModel",
            "_view_count": null,
            "_view_module": "@jupyter-widgets/base",
            "_view_module_version": "1.2.0",
            "_view_name": "LayoutView",
            "align_content": null,
            "align_items": null,
            "align_self": null,
            "border": null,
            "bottom": null,
            "display": null,
            "flex": null,
            "flex_flow": null,
            "grid_area": null,
            "grid_auto_columns": null,
            "grid_auto_flow": null,
            "grid_auto_rows": null,
            "grid_column": null,
            "grid_gap": null,
            "grid_row": null,
            "grid_template_areas": null,
            "grid_template_columns": null,
            "grid_template_rows": null,
            "height": null,
            "justify_content": null,
            "justify_items": null,
            "left": null,
            "margin": null,
            "max_height": null,
            "max_width": null,
            "min_height": null,
            "min_width": null,
            "object_fit": null,
            "object_position": null,
            "order": null,
            "overflow": null,
            "overflow_x": null,
            "overflow_y": null,
            "padding": null,
            "right": null,
            "top": null,
            "visibility": null,
            "width": null
          }
        },
        "9d21131147164de69f631814a2ed3032": {
          "model_module": "@jupyter-widgets/controls",
          "model_module_version": "1.5.0",
          "model_name": "HTMLModel",
          "state": {
            "_dom_classes": [],
            "_model_module": "@jupyter-widgets/controls",
            "_model_module_version": "1.5.0",
            "_model_name": "HTMLModel",
            "_view_count": null,
            "_view_module": "@jupyter-widgets/controls",
            "_view_module_version": "1.5.0",
            "_view_name": "HTMLView",
            "description": "",
            "description_tooltip": null,
            "layout": "IPY_MODEL_398b574cf42345af9650b1698161aaa1",
            "placeholder": "​",
            "style": "IPY_MODEL_188a308179b24b60897507e10e481771",
            "value": " 1/1 [00:02&lt;00:00,  2.98s/it]"
          }
        },
        "9f91fa640d34443290f035ca8edea5b0": {
          "model_module": "@jupyter-widgets/controls",
          "model_module_version": "1.5.0",
          "model_name": "HTMLModel",
          "state": {
            "_dom_classes": [],
            "_model_module": "@jupyter-widgets/controls",
            "_model_module_version": "1.5.0",
            "_model_name": "HTMLModel",
            "_view_count": null,
            "_view_module": "@jupyter-widgets/controls",
            "_view_module_version": "1.5.0",
            "_view_name": "HTMLView",
            "description": "",
            "description_tooltip": null,
            "layout": "IPY_MODEL_74204e8918f343ef8f7f4111b4b090a6",
            "placeholder": "​",
            "style": "IPY_MODEL_949d978c4d9443119639bc1f6637b238",
            "value": "Downloading metadata: 100%"
          }
        },
        "a347256d40ee4908869c0c6abebd8e82": {
          "model_module": "@jupyter-widgets/base",
          "model_module_version": "1.2.0",
          "model_name": "LayoutModel",
          "state": {
            "_model_module": "@jupyter-widgets/base",
            "_model_module_version": "1.2.0",
            "_model_name": "LayoutModel",
            "_view_count": null,
            "_view_module": "@jupyter-widgets/base",
            "_view_module_version": "1.2.0",
            "_view_name": "LayoutView",
            "align_content": null,
            "align_items": null,
            "align_self": null,
            "border": null,
            "bottom": null,
            "display": null,
            "flex": null,
            "flex_flow": null,
            "grid_area": null,
            "grid_auto_columns": null,
            "grid_auto_flow": null,
            "grid_auto_rows": null,
            "grid_column": null,
            "grid_gap": null,
            "grid_row": null,
            "grid_template_areas": null,
            "grid_template_columns": null,
            "grid_template_rows": null,
            "height": null,
            "justify_content": null,
            "justify_items": null,
            "left": null,
            "margin": null,
            "max_height": null,
            "max_width": null,
            "min_height": null,
            "min_width": null,
            "object_fit": null,
            "object_position": null,
            "order": null,
            "overflow": null,
            "overflow_x": null,
            "overflow_y": null,
            "padding": null,
            "right": null,
            "top": null,
            "visibility": null,
            "width": null
          }
        },
        "a99121530a5c45f4a5a7d6d7ca3784bc": {
          "model_module": "@jupyter-widgets/controls",
          "model_module_version": "1.5.0",
          "model_name": "HBoxModel",
          "state": {
            "_dom_classes": [],
            "_model_module": "@jupyter-widgets/controls",
            "_model_module_version": "1.5.0",
            "_model_name": "HBoxModel",
            "_view_count": null,
            "_view_module": "@jupyter-widgets/controls",
            "_view_module_version": "1.5.0",
            "_view_name": "HBoxView",
            "box_style": "",
            "children": [
              "IPY_MODEL_9f91fa640d34443290f035ca8edea5b0",
              "IPY_MODEL_bc424c7b01fc4ad3abf6b20e7b861e5c",
              "IPY_MODEL_e37cd2d92bd64f0e975449cec0dbfe98"
            ],
            "layout": "IPY_MODEL_e7ad6c98c70c4f5ea28ac9ba97a8f09d"
          }
        },
        "abaf92664b31415f8cf821df8dd302cc": {
          "model_module": "@jupyter-widgets/base",
          "model_module_version": "1.2.0",
          "model_name": "LayoutModel",
          "state": {
            "_model_module": "@jupyter-widgets/base",
            "_model_module_version": "1.2.0",
            "_model_name": "LayoutModel",
            "_view_count": null,
            "_view_module": "@jupyter-widgets/base",
            "_view_module_version": "1.2.0",
            "_view_name": "LayoutView",
            "align_content": null,
            "align_items": null,
            "align_self": null,
            "border": null,
            "bottom": null,
            "display": null,
            "flex": null,
            "flex_flow": null,
            "grid_area": null,
            "grid_auto_columns": null,
            "grid_auto_flow": null,
            "grid_auto_rows": null,
            "grid_column": null,
            "grid_gap": null,
            "grid_row": null,
            "grid_template_areas": null,
            "grid_template_columns": null,
            "grid_template_rows": null,
            "height": null,
            "justify_content": null,
            "justify_items": null,
            "left": null,
            "margin": null,
            "max_height": null,
            "max_width": null,
            "min_height": null,
            "min_width": null,
            "object_fit": null,
            "object_position": null,
            "order": null,
            "overflow": null,
            "overflow_x": null,
            "overflow_y": null,
            "padding": null,
            "right": null,
            "top": null,
            "visibility": null,
            "width": null
          }
        },
        "acf3d44fa71b499aa0109700bf0c6c03": {
          "model_module": "@jupyter-widgets/base",
          "model_module_version": "1.2.0",
          "model_name": "LayoutModel",
          "state": {
            "_model_module": "@jupyter-widgets/base",
            "_model_module_version": "1.2.0",
            "_model_name": "LayoutModel",
            "_view_count": null,
            "_view_module": "@jupyter-widgets/base",
            "_view_module_version": "1.2.0",
            "_view_name": "LayoutView",
            "align_content": null,
            "align_items": null,
            "align_self": null,
            "border": null,
            "bottom": null,
            "display": null,
            "flex": null,
            "flex_flow": null,
            "grid_area": null,
            "grid_auto_columns": null,
            "grid_auto_flow": null,
            "grid_auto_rows": null,
            "grid_column": null,
            "grid_gap": null,
            "grid_row": null,
            "grid_template_areas": null,
            "grid_template_columns": null,
            "grid_template_rows": null,
            "height": null,
            "justify_content": null,
            "justify_items": null,
            "left": null,
            "margin": null,
            "max_height": null,
            "max_width": null,
            "min_height": null,
            "min_width": null,
            "object_fit": null,
            "object_position": null,
            "order": null,
            "overflow": null,
            "overflow_x": null,
            "overflow_y": null,
            "padding": null,
            "right": null,
            "top": null,
            "visibility": null,
            "width": null
          }
        },
        "b05a0e2efaf44de7896f416b53673def": {
          "model_module": "@jupyter-widgets/controls",
          "model_module_version": "1.5.0",
          "model_name": "HTMLModel",
          "state": {
            "_dom_classes": [],
            "_model_module": "@jupyter-widgets/controls",
            "_model_module_version": "1.5.0",
            "_model_name": "HTMLModel",
            "_view_count": null,
            "_view_module": "@jupyter-widgets/controls",
            "_view_module_version": "1.5.0",
            "_view_name": "HTMLView",
            "description": "",
            "description_tooltip": null,
            "layout": "IPY_MODEL_602674d56b8049738a087177aebacdbc",
            "placeholder": "​",
            "style": "IPY_MODEL_7740b4432f464b1da7a448a0383ec229",
            "value": "Creating parquet from Arrow format: 100%"
          }
        },
        "b6cc2971db2f454494c42f5333791c1b": {
          "model_module": "@jupyter-widgets/controls",
          "model_module_version": "1.5.0",
          "model_name": "ProgressStyleModel",
          "state": {
            "_model_module": "@jupyter-widgets/controls",
            "_model_module_version": "1.5.0",
            "_model_name": "ProgressStyleModel",
            "_view_count": null,
            "_view_module": "@jupyter-widgets/base",
            "_view_module_version": "1.2.0",
            "_view_name": "StyleView",
            "bar_color": null,
            "description_width": ""
          }
        },
        "b8eff4e600c84093a0ae952f4dca5228": {
          "model_module": "@jupyter-widgets/controls",
          "model_module_version": "1.5.0",
          "model_name": "HBoxModel",
          "state": {
            "_dom_classes": [],
            "_model_module": "@jupyter-widgets/controls",
            "_model_module_version": "1.5.0",
            "_model_name": "HBoxModel",
            "_view_count": null,
            "_view_module": "@jupyter-widgets/controls",
            "_view_module_version": "1.5.0",
            "_view_name": "HBoxView",
            "box_style": "",
            "children": [
              "IPY_MODEL_4e1bbeb58d924dc5af72211fbd7004c7",
              "IPY_MODEL_dc78aac669064b819adea93dd8f6e5f3",
              "IPY_MODEL_29f24d35d3c04589bbdc554e372c1592"
            ],
            "layout": "IPY_MODEL_860e9a8ddeb248a890182f3193069e1b"
          }
        },
        "ba3dddfc08cf42eea7de3ddeaff4858e": {
          "model_module": "@jupyter-widgets/controls",
          "model_module_version": "1.5.0",
          "model_name": "HBoxModel",
          "state": {
            "_dom_classes": [],
            "_model_module": "@jupyter-widgets/controls",
            "_model_module_version": "1.5.0",
            "_model_name": "HBoxModel",
            "_view_count": null,
            "_view_module": "@jupyter-widgets/controls",
            "_view_module_version": "1.5.0",
            "_view_name": "HBoxView",
            "box_style": "",
            "children": [
              "IPY_MODEL_b05a0e2efaf44de7896f416b53673def",
              "IPY_MODEL_045b1830d57043e9ab0b79bfa2a2e371",
              "IPY_MODEL_0b7bc84a081d40d5bd214626b524d480"
            ],
            "layout": "IPY_MODEL_4d3c61bfb83746719ee26c2b9730f6ff"
          }
        },
        "bc424c7b01fc4ad3abf6b20e7b861e5c": {
          "model_module": "@jupyter-widgets/controls",
          "model_module_version": "1.5.0",
          "model_name": "FloatProgressModel",
          "state": {
            "_dom_classes": [],
            "_model_module": "@jupyter-widgets/controls",
            "_model_module_version": "1.5.0",
            "_model_name": "FloatProgressModel",
            "_view_count": null,
            "_view_module": "@jupyter-widgets/controls",
            "_view_module_version": "1.5.0",
            "_view_name": "ProgressView",
            "bar_style": "success",
            "description": "",
            "description_tooltip": null,
            "layout": "IPY_MODEL_abaf92664b31415f8cf821df8dd302cc",
            "max": 606,
            "min": 0,
            "orientation": "horizontal",
            "style": "IPY_MODEL_fad62b51e97d4b46bf95b55c64439c38",
            "value": 606
          }
        },
        "c8e40528d29f4097b87efe3481fff365": {
          "model_module": "@jupyter-widgets/base",
          "model_module_version": "1.2.0",
          "model_name": "LayoutModel",
          "state": {
            "_model_module": "@jupyter-widgets/base",
            "_model_module_version": "1.2.0",
            "_model_name": "LayoutModel",
            "_view_count": null,
            "_view_module": "@jupyter-widgets/base",
            "_view_module_version": "1.2.0",
            "_view_name": "LayoutView",
            "align_content": null,
            "align_items": null,
            "align_self": null,
            "border": null,
            "bottom": null,
            "display": null,
            "flex": null,
            "flex_flow": null,
            "grid_area": null,
            "grid_auto_columns": null,
            "grid_auto_flow": null,
            "grid_auto_rows": null,
            "grid_column": null,
            "grid_gap": null,
            "grid_row": null,
            "grid_template_areas": null,
            "grid_template_columns": null,
            "grid_template_rows": null,
            "height": null,
            "justify_content": null,
            "justify_items": null,
            "left": null,
            "margin": null,
            "max_height": null,
            "max_width": null,
            "min_height": null,
            "min_width": null,
            "object_fit": null,
            "object_position": null,
            "order": null,
            "overflow": null,
            "overflow_x": null,
            "overflow_y": null,
            "padding": null,
            "right": null,
            "top": null,
            "visibility": null,
            "width": null
          }
        },
        "d60a0d0d9b0541cd89b8d0a5aec23e13": {
          "model_module": "@jupyter-widgets/base",
          "model_module_version": "1.2.0",
          "model_name": "LayoutModel",
          "state": {
            "_model_module": "@jupyter-widgets/base",
            "_model_module_version": "1.2.0",
            "_model_name": "LayoutModel",
            "_view_count": null,
            "_view_module": "@jupyter-widgets/base",
            "_view_module_version": "1.2.0",
            "_view_name": "LayoutView",
            "align_content": null,
            "align_items": null,
            "align_self": null,
            "border": null,
            "bottom": null,
            "display": null,
            "flex": null,
            "flex_flow": null,
            "grid_area": null,
            "grid_auto_columns": null,
            "grid_auto_flow": null,
            "grid_auto_rows": null,
            "grid_column": null,
            "grid_gap": null,
            "grid_row": null,
            "grid_template_areas": null,
            "grid_template_columns": null,
            "grid_template_rows": null,
            "height": null,
            "justify_content": null,
            "justify_items": null,
            "left": null,
            "margin": null,
            "max_height": null,
            "max_width": null,
            "min_height": null,
            "min_width": null,
            "object_fit": null,
            "object_position": null,
            "order": null,
            "overflow": null,
            "overflow_x": null,
            "overflow_y": null,
            "padding": null,
            "right": null,
            "top": null,
            "visibility": null,
            "width": null
          }
        },
        "dc78aac669064b819adea93dd8f6e5f3": {
          "model_module": "@jupyter-widgets/controls",
          "model_module_version": "1.5.0",
          "model_name": "FloatProgressModel",
          "state": {
            "_dom_classes": [],
            "_model_module": "@jupyter-widgets/controls",
            "_model_module_version": "1.5.0",
            "_model_name": "FloatProgressModel",
            "_view_count": null,
            "_view_module": "@jupyter-widgets/controls",
            "_view_module_version": "1.5.0",
            "_view_name": "ProgressView",
            "bar_style": "success",
            "description": "",
            "description_tooltip": null,
            "layout": "IPY_MODEL_77dbeb3b945d49f29bedbef5d846682b",
            "max": 1,
            "min": 0,
            "orientation": "horizontal",
            "style": "IPY_MODEL_6c23d56eca524a48ba93e8737501fabc",
            "value": 1
          }
        },
        "dce3d229802043089dc1e9db339b0f56": {
          "model_module": "@jupyter-widgets/controls",
          "model_module_version": "1.5.0",
          "model_name": "FloatProgressModel",
          "state": {
            "_dom_classes": [],
            "_model_module": "@jupyter-widgets/controls",
            "_model_module_version": "1.5.0",
            "_model_name": "FloatProgressModel",
            "_view_count": null,
            "_view_module": "@jupyter-widgets/controls",
            "_view_module_version": "1.5.0",
            "_view_name": "ProgressView",
            "bar_style": "success",
            "description": "",
            "description_tooltip": null,
            "layout": "IPY_MODEL_acf3d44fa71b499aa0109700bf0c6c03",
            "max": 100,
            "min": 0,
            "orientation": "horizontal",
            "style": "IPY_MODEL_584aae6c8723436cb89b9f9cf71affd7",
            "value": 100
          }
        },
        "e0254613a0aa4b8892f7e1da5b077e20": {
          "model_module": "@jupyter-widgets/base",
          "model_module_version": "1.2.0",
          "model_name": "LayoutModel",
          "state": {
            "_model_module": "@jupyter-widgets/base",
            "_model_module_version": "1.2.0",
            "_model_name": "LayoutModel",
            "_view_count": null,
            "_view_module": "@jupyter-widgets/base",
            "_view_module_version": "1.2.0",
            "_view_name": "LayoutView",
            "align_content": null,
            "align_items": null,
            "align_self": null,
            "border": null,
            "bottom": null,
            "display": null,
            "flex": null,
            "flex_flow": null,
            "grid_area": null,
            "grid_auto_columns": null,
            "grid_auto_flow": null,
            "grid_auto_rows": null,
            "grid_column": null,
            "grid_gap": null,
            "grid_row": null,
            "grid_template_areas": null,
            "grid_template_columns": null,
            "grid_template_rows": null,
            "height": null,
            "justify_content": null,
            "justify_items": null,
            "left": null,
            "margin": null,
            "max_height": null,
            "max_width": null,
            "min_height": null,
            "min_width": null,
            "object_fit": null,
            "object_position": null,
            "order": null,
            "overflow": null,
            "overflow_x": null,
            "overflow_y": null,
            "padding": null,
            "right": null,
            "top": null,
            "visibility": null,
            "width": null
          }
        },
        "e37cd2d92bd64f0e975449cec0dbfe98": {
          "model_module": "@jupyter-widgets/controls",
          "model_module_version": "1.5.0",
          "model_name": "HTMLModel",
          "state": {
            "_dom_classes": [],
            "_model_module": "@jupyter-widgets/controls",
            "_model_module_version": "1.5.0",
            "_model_name": "HTMLModel",
            "_view_count": null,
            "_view_module": "@jupyter-widgets/controls",
            "_view_module_version": "1.5.0",
            "_view_name": "HTMLView",
            "description": "",
            "description_tooltip": null,
            "layout": "IPY_MODEL_27aafce97d604423861d3b04171df2a9",
            "placeholder": "​",
            "style": "IPY_MODEL_fac5cfae31674b8da333d05fcaa649e6",
            "value": " 606/606 [00:00&lt;00:00, 53.5kB/s]"
          }
        },
        "e7ad6c98c70c4f5ea28ac9ba97a8f09d": {
          "model_module": "@jupyter-widgets/base",
          "model_module_version": "1.2.0",
          "model_name": "LayoutModel",
          "state": {
            "_model_module": "@jupyter-widgets/base",
            "_model_module_version": "1.2.0",
            "_model_name": "LayoutModel",
            "_view_count": null,
            "_view_module": "@jupyter-widgets/base",
            "_view_module_version": "1.2.0",
            "_view_name": "LayoutView",
            "align_content": null,
            "align_items": null,
            "align_self": null,
            "border": null,
            "bottom": null,
            "display": null,
            "flex": null,
            "flex_flow": null,
            "grid_area": null,
            "grid_auto_columns": null,
            "grid_auto_flow": null,
            "grid_auto_rows": null,
            "grid_column": null,
            "grid_gap": null,
            "grid_row": null,
            "grid_template_areas": null,
            "grid_template_columns": null,
            "grid_template_rows": null,
            "height": null,
            "justify_content": null,
            "justify_items": null,
            "left": null,
            "margin": null,
            "max_height": null,
            "max_width": null,
            "min_height": null,
            "min_width": null,
            "object_fit": null,
            "object_position": null,
            "order": null,
            "overflow": null,
            "overflow_x": null,
            "overflow_y": null,
            "padding": null,
            "right": null,
            "top": null,
            "visibility": null,
            "width": null
          }
        },
        "fa56e3c3ec4247259d8260430b49eade": {
          "model_module": "@jupyter-widgets/controls",
          "model_module_version": "1.5.0",
          "model_name": "HTMLModel",
          "state": {
            "_dom_classes": [],
            "_model_module": "@jupyter-widgets/controls",
            "_model_module_version": "1.5.0",
            "_model_name": "HTMLModel",
            "_view_count": null,
            "_view_module": "@jupyter-widgets/controls",
            "_view_module_version": "1.5.0",
            "_view_name": "HTMLView",
            "description": "",
            "description_tooltip": null,
            "layout": "IPY_MODEL_4491f69bccfe40f59beafeda4feb8445",
            "placeholder": "​",
            "style": "IPY_MODEL_7259ead0b3fc499082a9c0b4fcb88569",
            "value": "Pushing dataset shards to the dataset hub: 100%"
          }
        },
        "fac5cfae31674b8da333d05fcaa649e6": {
          "model_module": "@jupyter-widgets/controls",
          "model_module_version": "1.5.0",
          "model_name": "DescriptionStyleModel",
          "state": {
            "_model_module": "@jupyter-widgets/controls",
            "_model_module_version": "1.5.0",
            "_model_name": "DescriptionStyleModel",
            "_view_count": null,
            "_view_module": "@jupyter-widgets/base",
            "_view_module_version": "1.2.0",
            "_view_name": "StyleView",
            "description_width": ""
          }
        },
        "fad62b51e97d4b46bf95b55c64439c38": {
          "model_module": "@jupyter-widgets/controls",
          "model_module_version": "1.5.0",
          "model_name": "ProgressStyleModel",
          "state": {
            "_model_module": "@jupyter-widgets/controls",
            "_model_module_version": "1.5.0",
            "_model_name": "ProgressStyleModel",
            "_view_count": null,
            "_view_module": "@jupyter-widgets/base",
            "_view_module_version": "1.2.0",
            "_view_name": "StyleView",
            "bar_color": null,
            "description_width": ""
          }
        },
        "ff13923d3e7349d5b1b2687574d25b41": {
          "model_module": "@jupyter-widgets/controls",
          "model_module_version": "1.5.0",
          "model_name": "DescriptionStyleModel",
          "state": {
            "_model_module": "@jupyter-widgets/controls",
            "_model_module_version": "1.5.0",
            "_model_name": "DescriptionStyleModel",
            "_view_count": null,
            "_view_module": "@jupyter-widgets/base",
            "_view_module_version": "1.2.0",
            "_view_name": "StyleView",
            "description_width": ""
          }
        }
      }
    }
  },
  "nbformat": 4,
  "nbformat_minor": 0
}
