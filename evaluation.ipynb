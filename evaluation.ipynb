{
  "nbformat": 4,
  "nbformat_minor": 0,
  "metadata": {
    "colab": {
      "provenance": [],
      "gpuType": "T4",
      "authorship_tag": "ABX9TyOP9gnaw8kPo+djafAiR6pL",
      "include_colab_link": true
    },
    "kernelspec": {
      "name": "python3",
      "display_name": "Python 3"
    },
    "language_info": {
      "name": "python"
    },
    "accelerator": "GPU"
  },
  "cells": [
    {
      "cell_type": "markdown",
      "metadata": {
        "id": "view-in-github",
        "colab_type": "text"
      },
      "source": [
        "<a href=\"https://colab.research.google.com/github/PanoEvJ/summarization_RLHF/blob/main/evaluation.ipynb\" target=\"_parent\"><img src=\"https://colab.research.google.com/assets/colab-badge.svg\" alt=\"Open In Colab\"/></a>"
      ]
    },
    {
      "cell_type": "code",
      "source": [
        "ppo_return_mean = [ 0.05318493768572807, 0.09490420669317245, 0.12642419338226318]\n",
        "ppo_advantages_mean = [0.0018993918783962727, -5.807960405945778e-05, 0.0011868876172229648]\n",
        "objective_kl = [0.0,-0.08673879504203796, -0.9768379926681519]"
      ],
      "metadata": {
        "id": "oV42FqAOzNLb"
      },
      "execution_count": null,
      "outputs": []
    }
  ]
}